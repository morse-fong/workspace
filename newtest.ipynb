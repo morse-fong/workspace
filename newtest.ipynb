{
 "metadata": {
  "kernelspec": {
   "name": "python3",
   "display_name": "Python 3",
   "language": "python"
  },
  "language_info": {
   "name": "python",
   "version": "3.10.12",
   "mimetype": "text/x-python",
   "codemirror_mode": {
    "name": "ipython",
    "version": 3
   },
   "pygments_lexer": "ipython3",
   "nbconvert_exporter": "python",
   "file_extension": ".py"
  }
 },
 "nbformat_minor": 4,
 "nbformat": 4,
 "cells": [
  {
   "cell_type": "code",
   "source": [
    "# 导入所需的包\n",
    "import pandas as pd\n",
    "import matplotlib.pyplot as plt\n",
    "import os\n",
    "\n",
    "os.environ[\"CUDA_VISIBLE_DEVICES\"] = \"0\"\n",
    "# 读取数据\n",
    "attachment1 = pd.read_excel(\"CUMCM2023Problems/C题/6 个蔬菜品类的商品信息.xlsx\")\n",
    "attachment2 = pd.read_excel(\"CUMCM2023Problems/C题/销售流水明细数据.xlsx\")\n",
    "attachment3 = pd.read_excel(\"CUMCM2023Problems/C题/蔬菜类商品的批发价格.xlsx\")"
   ],
   "metadata": {
    "execution": {
     "iopub.status.busy": "2023-09-09T11:10:40.179574Z",
     "iopub.execute_input": "2023-09-09T11:10:40.180261Z",
     "iopub.status.idle": "2023-09-09T11:13:22.821614Z",
     "shell.execute_reply.started": "2023-09-09T11:10:40.180229Z",
     "shell.execute_reply": "2023-09-09T11:13:22.820664Z"
    },
    "trusted": true,
    "ExecuteTime": {
     "end_time": "2023-09-10T02:07:09.954757400Z",
     "start_time": "2023-09-10T02:05:42.796662800Z"
    }
   },
   "execution_count": 100,
   "outputs": []
  },
  {
   "cell_type": "code",
   "execution_count": 101,
   "outputs": [],
   "source": [
    "# costlist=attachment3.merge(attachment1,on='单品编码',how='left').groupby(['日期','分类名称']).mean()\n",
    "# Pricelist=attachment2.merge(attachment1,on='单品编码',how='left').groupby(['销售日期','分类名称']).agg({'销量(千克)':'sum','销售单价(元/千克)':'mean'})"
   ],
   "metadata": {
    "collapsed": false,
    "ExecuteTime": {
     "end_time": "2023-09-10T02:07:09.974771900Z",
     "start_time": "2023-09-10T02:07:09.955752Z"
    }
   }
  },
  {
   "cell_type": "code",
   "execution_count": 102,
   "outputs": [],
   "source": [
    "# for i,j in (costlist.groupby('分类名称'),Pricelist.groupby('分类名称')):\n",
    "#     print(i[1]['批发价格(元/千克)'],j[1]['批发价格(元/千克)'])\n",
    "#     print(j)"
   ],
   "metadata": {
    "collapsed": false,
    "ExecuteTime": {
     "end_time": "2023-09-10T02:07:09.996941700Z",
     "start_time": "2023-09-10T02:07:09.970263200Z"
    }
   }
  },
  {
   "cell_type": "code",
   "execution_count": 103,
   "outputs": [],
   "source": [
    "# attachment2.head()"
   ],
   "metadata": {
    "collapsed": false,
    "ExecuteTime": {
     "end_time": "2023-09-10T02:07:10.012989200Z",
     "start_time": "2023-09-10T02:07:09.988415100Z"
    }
   }
  },
  {
   "cell_type": "markdown",
   "source": [
    "首先，您需要对数据进行归一化，并将时间序列数据转换为LSTM可以处理的格式。"
   ],
   "metadata": {}
  },
  {
   "cell_type": "code",
   "source": [
    "import numpy as np\n",
    "from sklearn.preprocessing import MinMaxScaler\n",
    "from keras.models import Sequential\n",
    "from keras.layers import Dense, LSTM\n",
    "\n",
    "# Group by the date and product ID to get daily sales volume for each product\n",
    "# Merge with attachment1 to get the category information/\n",
    "daily_sales = attachment2.merge(attachment1, on='单品编码', how='left')\n",
    "\n",
    "# Grouping the data by category and date\n",
    "category_sales2 = daily_sales.groupby(['销售日期', '分类名称'])['销量(千克)'].mean().unstack()\n",
    "category_sales2.replace(np.nan, 0, inplace=True)\n",
    "category_sales = category_sales2['花叶类']\n",
    "# '水生根茎类' '花叶类' '花菜类' '茄类' '辣椒类' '食用菌'"
   ],
   "metadata": {
    "execution": {
     "iopub.status.busy": "2023-09-09T11:35:55.874589Z",
     "iopub.execute_input": "2023-09-09T11:35:55.875285Z",
     "iopub.status.idle": "2023-09-09T11:35:55.961573Z",
     "shell.execute_reply.started": "2023-09-09T11:35:55.875251Z",
     "shell.execute_reply": "2023-09-09T11:35:55.960576Z"
    },
    "trusted": true,
    "ExecuteTime": {
     "end_time": "2023-09-10T02:25:07.255128Z",
     "start_time": "2023-09-10T02:25:06.905589600Z"
    }
   },
   "execution_count": 148,
   "outputs": []
  },
  {
   "cell_type": "code",
   "execution_count": 150,
   "outputs": [],
   "source": [
    "# # Load the data\n",
    "# daily_sales = attachment2\n",
    "# # Group by the date and product ID to get daily sales volume for each product\n",
    "# daily_sales = daily_sales.groupby(['销售日期', '单品编码'])['销量(千克)'].sum().reset_index()\n",
    "# \n",
    "# # Merge with attachment1 to get the category information\n",
    "# daily_sales = daily_sales.merge(attachment1, on='单品编码', how='left')\n",
    "# \n",
    "# # Grouping the data by category and date\n",
    "# category_sales = daily_sales.groupby(['销售日期', '分类名称'])['销量(千克)'].sum().unstack()\n",
    "\n",
    "\n",
    "look_back = 7\n",
    "# 数据归一化\n",
    "scaler = MinMaxScaler(feature_range=(0, 1))\n",
    "scaled_data = scaler.fit_transform(category_sales.values.reshape(-1, 1))\n",
    "\n",
    "\n",
    "# 将时间序列数据转换为LSTM所需的格式\n",
    "def create_dataset(dataset, look_back=1):\n",
    "    dataX, dataY = [], []\n",
    "    for i in range(len(dataset) - look_back - 1):\n",
    "        a = dataset[i:(i + look_back), 0]\n",
    "        dataX.append(a)\n",
    "        dataY.append(dataset[i + look_back, 0])\n",
    "    return np.array(dataX), np.array(dataY)\n",
    "\n",
    "\n",
    "X, y = create_dataset(scaled_data, look_back)"
   ],
   "metadata": {
    "collapsed": false,
    "ExecuteTime": {
     "end_time": "2023-09-10T02:25:07.323675500Z",
     "start_time": "2023-09-10T02:25:07.269817Z"
    }
   }
  },
  {
   "cell_type": "markdown",
   "source": [],
   "metadata": {}
  },
  {
   "cell_type": "code",
   "execution_count": 153,
   "outputs": [],
   "source": [
    "\n",
    "# # 数据归一化\n",
    "scaler = MinMaxScaler(feature_range=(0, 1))\n",
    "scaled_data = scaler.fit_transform(category_sales.values.reshape(-1, 1))\n"
   ],
   "metadata": {
    "collapsed": false,
    "ExecuteTime": {
     "end_time": "2023-09-10T02:25:07.383465600Z",
     "start_time": "2023-09-10T02:25:07.313144700Z"
    }
   }
  },
  {
   "cell_type": "code",
   "execution_count": 155,
   "outputs": [],
   "source": [
    "# 将时间序列数据转换为LSTM所需的格式\n",
    "def create_dataset(dataset, look_back=1):\n",
    "    dataX, dataY = [], []\n",
    "    for i in range(len(dataset) - look_back - 1):\n",
    "        a = dataset[i:(i + look_back), 0]\n",
    "        dataX.append(a)\n",
    "        dataY.append(dataset[i + look_back, 0])\n",
    "    return np.array(dataX), np.array(dataY)\n",
    "\n",
    "\n",
    "X, y = create_dataset(scaled_data, look_back)"
   ],
   "metadata": {
    "collapsed": false,
    "ExecuteTime": {
     "end_time": "2023-09-10T02:25:07.469526900Z",
     "start_time": "2023-09-10T02:25:07.343716500Z"
    }
   }
  },
  {
   "cell_type": "code",
   "source": [
    "# 将数据划分为训练集和测试集\n",
    "train_size = int(len(X) * 0.67)\n",
    "test_size = len(X) - train_size\n",
    "X_train, X_test = X[0:train_size], X[train_size:len(X)]\n",
    "y_train, y_test = y[0:train_size], y[train_size:len(y)]\n",
    "# reshape input to be [samples, time steps, features]\n",
    "X_train = np.reshape(X_train, (X_train.shape[0], 1, X_train.shape[1]))\n",
    "X_test = np.reshape(X_test, (X_test.shape[0], 1, X_test.shape[1]))"
   ],
   "metadata": {
    "execution": {
     "iopub.status.busy": "2023-09-09T11:36:08.415898Z",
     "iopub.execute_input": "2023-09-09T11:36:08.416267Z",
     "iopub.status.idle": "2023-09-09T11:37:35.762241Z",
     "shell.execute_reply.started": "2023-09-09T11:36:08.416236Z",
     "shell.execute_reply": "2023-09-09T11:37:35.761173Z"
    },
    "trusted": true,
    "ExecuteTime": {
     "end_time": "2023-09-10T02:25:07.469526900Z",
     "start_time": "2023-09-10T02:25:07.358398600Z"
    }
   },
   "execution_count": 156,
   "outputs": [
    {
     "name": "stdout",
     "output_type": "stream",
     "text": [
      "(721, 7) (356, 7)\n"
     ]
    }
   ]
  },
  {
   "cell_type": "code",
   "execution_count": 157,
   "outputs": [
    {
     "name": "stdout",
     "output_type": "stream",
     "text": [
      "Epoch 1/100\n",
      "29/29 - 1s - loss: 0.0472 - 1s/epoch - 48ms/step\n",
      "Epoch 2/100\n",
      "29/29 - 0s - loss: 0.0251 - 31ms/epoch - 1ms/step\n",
      "Epoch 3/100\n",
      "29/29 - 0s - loss: 0.0134 - 32ms/epoch - 1ms/step\n",
      "Epoch 4/100\n",
      "29/29 - 0s - loss: 0.0082 - 33ms/epoch - 1ms/step\n",
      "Epoch 5/100\n",
      "29/29 - 0s - loss: 0.0066 - 34ms/epoch - 1ms/step\n",
      "Epoch 6/100\n",
      "29/29 - 0s - loss: 0.0061 - 34ms/epoch - 1ms/step\n",
      "Epoch 7/100\n",
      "29/29 - 0s - loss: 0.0057 - 34ms/epoch - 1ms/step\n",
      "Epoch 8/100\n",
      "29/29 - 0s - loss: 0.0053 - 35ms/epoch - 1ms/step\n",
      "Epoch 9/100\n",
      "29/29 - 0s - loss: 0.0049 - 34ms/epoch - 1ms/step\n",
      "Epoch 10/100\n",
      "29/29 - 0s - loss: 0.0046 - 33ms/epoch - 1ms/step\n",
      "Epoch 11/100\n",
      "29/29 - 0s - loss: 0.0043 - 33ms/epoch - 1ms/step\n",
      "Epoch 12/100\n",
      "29/29 - 0s - loss: 0.0040 - 34ms/epoch - 1ms/step\n",
      "Epoch 13/100\n",
      "29/29 - 0s - loss: 0.0038 - 33ms/epoch - 1ms/step\n",
      "Epoch 14/100\n",
      "29/29 - 0s - loss: 0.0036 - 36ms/epoch - 1ms/step\n",
      "Epoch 15/100\n",
      "29/29 - 0s - loss: 0.0035 - 36ms/epoch - 1ms/step\n",
      "Epoch 16/100\n",
      "29/29 - 0s - loss: 0.0034 - 35ms/epoch - 1ms/step\n",
      "Epoch 17/100\n",
      "29/29 - 0s - loss: 0.0033 - 34ms/epoch - 1ms/step\n",
      "Epoch 18/100\n",
      "29/29 - 0s - loss: 0.0032 - 34ms/epoch - 1ms/step\n",
      "Epoch 19/100\n",
      "29/29 - 0s - loss: 0.0032 - 32ms/epoch - 1ms/step\n",
      "Epoch 20/100\n",
      "29/29 - 0s - loss: 0.0031 - 34ms/epoch - 1ms/step\n",
      "Epoch 21/100\n",
      "29/29 - 0s - loss: 0.0031 - 34ms/epoch - 1ms/step\n",
      "Epoch 22/100\n",
      "29/29 - 0s - loss: 0.0031 - 37ms/epoch - 1ms/step\n",
      "Epoch 23/100\n",
      "29/29 - 0s - loss: 0.0031 - 32ms/epoch - 1ms/step\n",
      "Epoch 24/100\n",
      "29/29 - 0s - loss: 0.0030 - 33ms/epoch - 1ms/step\n",
      "Epoch 25/100\n",
      "29/29 - 0s - loss: 0.0030 - 33ms/epoch - 1ms/step\n",
      "Epoch 26/100\n",
      "29/29 - 0s - loss: 0.0030 - 35ms/epoch - 1ms/step\n",
      "Epoch 27/100\n",
      "29/29 - 0s - loss: 0.0030 - 34ms/epoch - 1ms/step\n",
      "Epoch 28/100\n",
      "29/29 - 0s - loss: 0.0030 - 34ms/epoch - 1ms/step\n",
      "Epoch 29/100\n",
      "29/29 - 0s - loss: 0.0030 - 34ms/epoch - 1ms/step\n",
      "Epoch 30/100\n",
      "29/29 - 0s - loss: 0.0030 - 33ms/epoch - 1ms/step\n",
      "Epoch 31/100\n",
      "29/29 - 0s - loss: 0.0030 - 36ms/epoch - 1ms/step\n",
      "Epoch 32/100\n",
      "29/29 - 0s - loss: 0.0030 - 35ms/epoch - 1ms/step\n",
      "Epoch 33/100\n",
      "29/29 - 0s - loss: 0.0030 - 37ms/epoch - 1ms/step\n",
      "Epoch 34/100\n",
      "29/29 - 0s - loss: 0.0030 - 35ms/epoch - 1ms/step\n",
      "Epoch 35/100\n",
      "29/29 - 0s - loss: 0.0030 - 33ms/epoch - 1ms/step\n",
      "Epoch 36/100\n",
      "29/29 - 0s - loss: 0.0030 - 36ms/epoch - 1ms/step\n",
      "Epoch 37/100\n",
      "29/29 - 0s - loss: 0.0030 - 34ms/epoch - 1ms/step\n",
      "Epoch 38/100\n",
      "29/29 - 0s - loss: 0.0030 - 34ms/epoch - 1ms/step\n",
      "Epoch 39/100\n",
      "29/29 - 0s - loss: 0.0030 - 33ms/epoch - 1ms/step\n",
      "Epoch 40/100\n",
      "29/29 - 0s - loss: 0.0030 - 32ms/epoch - 1ms/step\n",
      "Epoch 41/100\n",
      "29/29 - 0s - loss: 0.0030 - 36ms/epoch - 1ms/step\n",
      "Epoch 42/100\n",
      "29/29 - 0s - loss: 0.0030 - 35ms/epoch - 1ms/step\n",
      "Epoch 43/100\n",
      "29/29 - 0s - loss: 0.0029 - 35ms/epoch - 1ms/step\n",
      "Epoch 44/100\n",
      "29/29 - 0s - loss: 0.0029 - 39ms/epoch - 1ms/step\n",
      "Epoch 45/100\n",
      "29/29 - 0s - loss: 0.0029 - 36ms/epoch - 1ms/step\n",
      "Epoch 46/100\n",
      "29/29 - 0s - loss: 0.0029 - 36ms/epoch - 1ms/step\n",
      "Epoch 47/100\n",
      "29/29 - 0s - loss: 0.0029 - 36ms/epoch - 1ms/step\n",
      "Epoch 48/100\n",
      "29/29 - 0s - loss: 0.0029 - 37ms/epoch - 1ms/step\n",
      "Epoch 49/100\n",
      "29/29 - 0s - loss: 0.0029 - 36ms/epoch - 1ms/step\n",
      "Epoch 50/100\n",
      "29/29 - 0s - loss: 0.0029 - 37ms/epoch - 1ms/step\n",
      "Epoch 51/100\n",
      "29/29 - 0s - loss: 0.0029 - 40ms/epoch - 1ms/step\n",
      "Epoch 52/100\n",
      "29/29 - 0s - loss: 0.0029 - 40ms/epoch - 1ms/step\n",
      "Epoch 53/100\n",
      "29/29 - 0s - loss: 0.0029 - 40ms/epoch - 1ms/step\n",
      "Epoch 54/100\n",
      "29/29 - 0s - loss: 0.0029 - 40ms/epoch - 1ms/step\n",
      "Epoch 55/100\n",
      "29/29 - 0s - loss: 0.0029 - 37ms/epoch - 1ms/step\n",
      "Epoch 56/100\n",
      "29/29 - 0s - loss: 0.0029 - 39ms/epoch - 1ms/step\n",
      "Epoch 57/100\n",
      "29/29 - 0s - loss: 0.0029 - 39ms/epoch - 1ms/step\n",
      "Epoch 58/100\n",
      "29/29 - 0s - loss: 0.0029 - 36ms/epoch - 1ms/step\n",
      "Epoch 59/100\n",
      "29/29 - 0s - loss: 0.0029 - 33ms/epoch - 1ms/step\n",
      "Epoch 60/100\n",
      "29/29 - 0s - loss: 0.0029 - 33ms/epoch - 1ms/step\n",
      "Epoch 61/100\n",
      "29/29 - 0s - loss: 0.0029 - 34ms/epoch - 1ms/step\n",
      "Epoch 62/100\n",
      "29/29 - 0s - loss: 0.0029 - 35ms/epoch - 1ms/step\n",
      "Epoch 63/100\n",
      "29/29 - 0s - loss: 0.0029 - 36ms/epoch - 1ms/step\n",
      "Epoch 64/100\n",
      "29/29 - 0s - loss: 0.0029 - 34ms/epoch - 1ms/step\n",
      "Epoch 65/100\n",
      "29/29 - 0s - loss: 0.0029 - 34ms/epoch - 1ms/step\n",
      "Epoch 66/100\n",
      "29/29 - 0s - loss: 0.0029 - 34ms/epoch - 1ms/step\n",
      "Epoch 67/100\n",
      "29/29 - 0s - loss: 0.0029 - 37ms/epoch - 1ms/step\n",
      "Epoch 68/100\n",
      "29/29 - 0s - loss: 0.0029 - 36ms/epoch - 1ms/step\n",
      "Epoch 69/100\n",
      "29/29 - 0s - loss: 0.0029 - 35ms/epoch - 1ms/step\n",
      "Epoch 70/100\n",
      "29/29 - 0s - loss: 0.0029 - 35ms/epoch - 1ms/step\n",
      "Epoch 71/100\n",
      "29/29 - 0s - loss: 0.0029 - 34ms/epoch - 1ms/step\n",
      "Epoch 72/100\n",
      "29/29 - 0s - loss: 0.0029 - 37ms/epoch - 1ms/step\n",
      "Epoch 73/100\n",
      "29/29 - 0s - loss: 0.0029 - 35ms/epoch - 1ms/step\n",
      "Epoch 74/100\n",
      "29/29 - 0s - loss: 0.0029 - 34ms/epoch - 1ms/step\n",
      "Epoch 75/100\n",
      "29/29 - 0s - loss: 0.0029 - 36ms/epoch - 1ms/step\n",
      "Epoch 76/100\n",
      "29/29 - 0s - loss: 0.0029 - 34ms/epoch - 1ms/step\n",
      "Epoch 77/100\n",
      "29/29 - 0s - loss: 0.0029 - 32ms/epoch - 1ms/step\n",
      "Epoch 78/100\n",
      "29/29 - 0s - loss: 0.0029 - 37ms/epoch - 1ms/step\n",
      "Epoch 79/100\n",
      "29/29 - 0s - loss: 0.0028 - 36ms/epoch - 1ms/step\n",
      "Epoch 80/100\n",
      "29/29 - 0s - loss: 0.0029 - 35ms/epoch - 1ms/step\n",
      "Epoch 81/100\n",
      "29/29 - 0s - loss: 0.0029 - 33ms/epoch - 1ms/step\n",
      "Epoch 82/100\n",
      "29/29 - 0s - loss: 0.0028 - 36ms/epoch - 1ms/step\n",
      "Epoch 83/100\n",
      "29/29 - 0s - loss: 0.0028 - 34ms/epoch - 1ms/step\n",
      "Epoch 84/100\n",
      "29/29 - 0s - loss: 0.0028 - 36ms/epoch - 1ms/step\n",
      "Epoch 85/100\n",
      "29/29 - 0s - loss: 0.0029 - 36ms/epoch - 1ms/step\n",
      "Epoch 86/100\n",
      "29/29 - 0s - loss: 0.0028 - 36ms/epoch - 1ms/step\n",
      "Epoch 87/100\n",
      "29/29 - 0s - loss: 0.0028 - 34ms/epoch - 1ms/step\n",
      "Epoch 88/100\n",
      "29/29 - 0s - loss: 0.0028 - 35ms/epoch - 1ms/step\n",
      "Epoch 89/100\n",
      "29/29 - 0s - loss: 0.0028 - 34ms/epoch - 1ms/step\n",
      "Epoch 90/100\n",
      "29/29 - 0s - loss: 0.0028 - 34ms/epoch - 1ms/step\n",
      "Epoch 91/100\n",
      "29/29 - 0s - loss: 0.0028 - 34ms/epoch - 1ms/step\n",
      "Epoch 92/100\n",
      "29/29 - 0s - loss: 0.0029 - 33ms/epoch - 1ms/step\n",
      "Epoch 93/100\n",
      "29/29 - 0s - loss: 0.0028 - 36ms/epoch - 1ms/step\n",
      "Epoch 94/100\n",
      "29/29 - 0s - loss: 0.0028 - 37ms/epoch - 1ms/step\n",
      "Epoch 95/100\n",
      "29/29 - 0s - loss: 0.0028 - 34ms/epoch - 1ms/step\n",
      "Epoch 96/100\n",
      "29/29 - 0s - loss: 0.0028 - 33ms/epoch - 1ms/step\n",
      "Epoch 97/100\n",
      "29/29 - 0s - loss: 0.0028 - 35ms/epoch - 1ms/step\n",
      "Epoch 98/100\n",
      "29/29 - 0s - loss: 0.0028 - 33ms/epoch - 1ms/step\n",
      "Epoch 99/100\n",
      "29/29 - 0s - loss: 0.0028 - 35ms/epoch - 1ms/step\n",
      "Epoch 100/100\n",
      "29/29 - 0s - loss: 0.0028 - 35ms/epoch - 1ms/step\n"
     ]
    },
    {
     "data": {
      "text/plain": "<keras.src.callbacks.History at 0x1d1ce9bf130>"
     },
     "execution_count": 157,
     "metadata": {},
     "output_type": "execute_result"
    }
   ],
   "source": [
    "# 创建LSTM模型\n",
    "model = Sequential()\n",
    "model.add(LSTM(4, input_shape=(1, look_back)))\n",
    "model.add(Dense(1))\n",
    "model.compile(loss='mean_squared_error', optimizer='adam')\n",
    "model.fit(X_train, y_train, epochs=100, batch_size=25, verbose=2)\n"
   ],
   "metadata": {
    "collapsed": false,
    "ExecuteTime": {
     "end_time": "2023-09-10T02:25:12.628072200Z",
     "start_time": "2023-09-10T02:25:07.376955400Z"
    }
   }
  },
  {
   "cell_type": "code",
   "source": [
    "# model.save('/kaggle/working/model')"
   ],
   "metadata": {
    "execution": {
     "iopub.status.busy": "2023-09-09T11:52:44.897919Z",
     "iopub.execute_input": "2023-09-09T11:52:44.898946Z",
     "iopub.status.idle": "2023-09-09T11:52:48.817200Z",
     "shell.execute_reply.started": "2023-09-09T11:52:44.898911Z",
     "shell.execute_reply": "2023-09-09T11:52:48.816187Z"
    },
    "trusted": true,
    "ExecuteTime": {
     "end_time": "2023-09-10T02:25:12.641596Z",
     "start_time": "2023-09-10T02:25:12.601988300Z"
    }
   },
   "execution_count": 158,
   "outputs": []
  },
  {
   "cell_type": "code",
   "source": [
    "# from keras.models import load_model\n",
    "# \n",
    "# model = load_model('/kaggle/working/model')"
   ],
   "metadata": {
    "execution": {
     "iopub.status.busy": "2023-09-09T11:13:30.481881Z",
     "iopub.status.idle": "2023-09-09T11:13:30.482347Z",
     "shell.execute_reply.started": "2023-09-09T11:13:30.482108Z",
     "shell.execute_reply": "2023-09-09T11:13:30.482130Z"
    },
    "trusted": true,
    "ExecuteTime": {
     "end_time": "2023-09-10T02:25:12.643107400Z",
     "start_time": "2023-09-10T02:25:12.615539300Z"
    }
   },
   "execution_count": 159,
   "outputs": []
  },
  {
   "cell_type": "code",
   "source": [
    "# 预测\n",
    "\n",
    "def create_dataset0(dataset, look_back=1):\n",
    "    dataX = []\n",
    "    for i in range(len(dataset) - look_back * 2 - 1, len(dataset) - look_back - 1):\n",
    "        a = [dataset[i:(i + look_back), 0]]\n",
    "        dataX.append(a)\n",
    "    return np.array(dataX)\n",
    "\n",
    "unx = create_dataset0(scaled_data, look_back)\n",
    "predict = model.predict(unx)\n",
    "predict = scaler.inverse_transform(predict)\n",
    "\n",
    "train_predict = model.predict(X_train)\n",
    "test_predict = model.predict(X_test)\n",
    "\n",
    "# 反归一化\n",
    "train_predict = scaler.inverse_transform(train_predict)\n",
    "y_train = scaler.inverse_transform([y_train])\n",
    "test_predict = scaler.inverse_transform(test_predict)\n",
    "y_test = scaler.inverse_transform([y_test])\n",
    "\n",
    "# 计算root mean squared error\n",
    "train_score = np.sqrt(np.mean((train_predict - y_train) ** 2))\n",
    "print('Train Score: %.2f RMSE' % (train_score))\n",
    "test_score = np.sqrt(np.mean((test_predict - y_test) ** 2))\n",
    "print('Test Score: %.2f RMSE' % (test_score))\n",
    "\n"
   ],
   "metadata": {
    "execution": {
     "iopub.status.busy": "2023-09-09T11:56:09.500206Z",
     "iopub.execute_input": "2023-09-09T11:56:09.500593Z",
     "iopub.status.idle": "2023-09-09T11:56:10.172570Z",
     "shell.execute_reply.started": "2023-09-09T11:56:09.500562Z",
     "shell.execute_reply": "2023-09-09T11:56:10.171373Z"
    },
    "trusted": true,
    "ExecuteTime": {
     "end_time": "2023-09-10T02:25:13.059823200Z",
     "start_time": "2023-09-10T02:25:12.634595200Z"
    }
   },
   "execution_count": 160,
   "outputs": [
    {
     "name": "stdout",
     "output_type": "stream",
     "text": [
      "1/1 [==============================] - 0s 251ms/step\n",
      "[[[0.10468344 0.11317172 0.11427621 ... 0.08066954 0.11111864 0.0917959 ]]\n",
      "\n",
      " [[0.11317172 0.11427621 0.09108956 ... 0.11111864 0.0917959  0.09603749]]\n",
      "\n",
      " [[0.11427621 0.09108956 0.08066954 ... 0.0917959  0.09603749 0.1252098 ]]\n",
      "\n",
      " ...\n",
      "\n",
      " [[0.09716858 0.14977381 0.10005883 ... 0.11402598 0.08867357 0.10120287]]\n",
      "\n",
      " [[0.14977381 0.10005883 0.11027164 ... 0.08867357 0.10120287 0.12285332]]\n",
      "\n",
      " [[0.10005883 0.11027164 0.11402598 ... 0.10120287 0.12285332 0.11598942]]]\n",
      "23/23 [==============================] - 0s 843us/step\n",
      "12/12 [==============================] - 0s 910us/step\n",
      "(721, 1, 7)\n",
      "(721, 1)\n",
      "Train Score: 0.11 RMSE\n",
      "Test Score: 0.17 RMSE\n"
     ]
    }
   ]
  },
  {
   "cell_type": "code",
   "source": [
    "# 绘图\n",
    "plt.plot(scaler.inverse_transform(scaled_data))\n",
    "train_predict_plot = np.zeros_like(scaled_data)\n",
    "train_predict_plot[:, :] = np.nan\n",
    "train_predict_plot[look_back:len(train_predict) + look_back, :] = train_predict\n",
    "\n",
    "test_predict_plot = np.zeros_like(scaled_data)\n",
    "\n",
    "# print(scaler.inverse_transform(scaled_data))\n",
    "test_predict_plot[len(train_predict) + look_back:len(scaled_data) - 1, :] = test_predict\n",
    "\n",
    "predict_plot = np.zeros_like(scaled_data)\n",
    "predict_plot[len(predict_plot)-look_back:, :] = predict\n",
    "plt.plot(train_predict_plot)\n",
    "plt.plot(test_predict_plot)\n",
    "plt.plot(predict_plot)\n",
    "\n",
    "plt.show()"
   ],
   "metadata": {
    "execution": {
     "iopub.status.busy": "2023-09-09T12:23:37.167178Z",
     "iopub.execute_input": "2023-09-09T12:23:37.167561Z",
     "iopub.status.idle": "2023-09-09T12:23:37.505019Z",
     "shell.execute_reply.started": "2023-09-09T12:23:37.167530Z",
     "shell.execute_reply": "2023-09-09T12:23:37.503598Z"
    },
    "trusted": true,
    "ExecuteTime": {
     "end_time": "2023-09-10T02:25:13.234277100Z",
     "start_time": "2023-09-10T02:25:13.073484900Z"
    }
   },
   "execution_count": 162,
   "outputs": [
    {
     "name": "stdout",
     "output_type": "stream",
     "text": [
      "[[0.]\n",
      " [0.]\n",
      " [0.]\n",
      " ...\n",
      " [0.]\n",
      " [0.]\n",
      " [0.]]\n",
      "[[0.        ]\n",
      " [0.        ]\n",
      " [0.        ]\n",
      " ...\n",
      " [0.59002972]\n",
      " [0.60279334]\n",
      " [0.63446325]]\n"
     ]
    },
    {
     "data": {
      "text/plain": "<Figure size 640x480 with 1 Axes>",
      "image/png": "[encoded data removed]"
     },
     "metadata": {},
     "output_type": "display_data"
    }
   ]
  },
  {
   "cell_type": "code",
   "execution_count": 163,
   "outputs": [
    {
     "name": "stdout",
     "output_type": "stream",
     "text": [
      "[[0.65228957]\n",
      " [0.6433084 ]\n",
      " [0.6526918 ]\n",
      " [0.6325632 ]\n",
      " [0.5900297 ]\n",
      " [0.60279334]\n",
      " [0.63446325]]\n"
     ]
    }
   ],
   "source": [
    "print(predict)"
   ],
   "metadata": {
    "collapsed": false,
    "ExecuteTime": {
     "end_time": "2023-09-10T02:25:13.247838800Z",
     "start_time": "2023-09-10T02:25:13.225733500Z"
    }
   }
  },
  {
   "cell_type": "markdown",
   "source": [
    "2. 建立LSTM模型\n",
    "接下来，您需要定义LSTM的结构并编译模型。"
   ],
   "metadata": {}
  },
  {
   "cell_type": "markdown",
   "source": [
    "3. 训练模型\n",
    "使用您的训练数据训练LSTM模型。"
   ],
   "metadata": {}
  },
  {
   "cell_type": "markdown",
   "source": [
    "4. 进行预测\n",
    "使用训练好的LSTM模型对测试数据进行预测。"
   ],
   "metadata": {}
  },
  {
   "cell_type": "markdown",
   "source": [
    "预测未来一周的销售量：\n",
    "\n",
    "使用LSTM或其他时间序列预测模型预测每个蔬菜品类的未来一周销售量。\n",
    "确定补货策略：\n",
    "\n",
    "基于预测销售量，加上安全库存（以应对预测误差）来确定补货量。\n",
    "考虑损耗率来进一步调整补货量。例如，如果某个蔬菜的损耗率为10%，那么您可能需要增加10%的补货量以应对这种损耗。\n",
    "制定定价策略：\n",
    "\n",
    "使用“成本加成定价”方法：先确定每个蔬菜品类的成本，然后加上预期的利润率来确定售价。\n",
    "考虑市场竞争、季节性因素和其他因素来调整价格。\n",
    "如果蔬菜品相变差，可以提供折扣以加速销售。\n",
    "也可以考虑使用动态定价策略，例如，如果某天销售量低于预期，可以稍微降低价格以吸引更多顾客。\n",
    "最大化收益的策略：\n",
    "\n",
    "根据预测的销售量、定价策略和成本来模拟未来一周的预期收益。\n",
    "使用优化算法（如线性规划）来确定能够最大化收益的最佳定价和补货策略。"
   ],
   "metadata": {}
  },
  {
   "cell_type": "code",
   "source": [
    "import os\n",
    "import zipfile\n",
    "import datetime\n",
    "\n",
    "\n",
    "def file2zip(packagePath, zipPath):\n",
    "    '''\n",
    "  :param packagePath: 文件夹路径\n",
    "  :param zipPath: 压缩包路径\n",
    "  :return:\n",
    "  '''\n",
    "    zip = zipfile.ZipFile(zipPath, 'w', zipfile.ZIP_DEFLATED)\n",
    "    for path, dirNames, fileNames in os.walk(packagePath):\n",
    "        fpath = path.replace(packagePath, '')\n",
    "        for name in fileNames:\n",
    "            fullName = os.path.join(path, name)\n",
    "            name = fpath + '\\\\' + name\n",
    "            zip.write(fullName, name)\n",
    "    zip.close()\n",
    "\n",
    "# if __name__ == \"__main__\":\n",
    "#     # 文件夹路径\n",
    "#     packagePath = '/kaggle/working/'\n",
    "#     zipPath = '/kaggle/working/output.zip'\n",
    "#     if os.path.exists(zipPath):\n",
    "#         os.remove(zipPath)\n",
    "#     file2zip(packagePath, zipPath)\n",
    "#     print(\"打包完成\")\n",
    "#     print(datetime.datetime.utcnow())\n"
   ],
   "metadata": {
    "execution": {
     "iopub.status.busy": "2023-09-09T11:13:30.491831Z",
     "iopub.status.idle": "2023-09-09T11:13:30.493243Z",
     "shell.execute_reply.started": "2023-09-09T11:13:30.492992Z",
     "shell.execute_reply": "2023-09-09T11:13:30.493017Z"
    },
    "trusted": true,
    "ExecuteTime": {
     "end_time": "2023-09-10T02:25:13.331666200Z",
     "start_time": "2023-09-10T02:25:13.243823200Z"
    }
   },
   "execution_count": 164,
   "outputs": []
  }
 ]
}
