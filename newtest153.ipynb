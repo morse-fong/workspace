{
 "metadata": {
  "kernelspec": {
   "name": "python3",
   "display_name": "Python 3",
   "language": "python"
  },
  "language_info": {
   "name": "python",
   "version": "3.10.12",
   "mimetype": "text/x-python",
   "codemirror_mode": {
    "name": "ipython",
    "version": 3
   },
   "pygments_lexer": "ipython3",
   "nbconvert_exporter": "python",
   "file_extension": ".py"
  }
 },
 "nbformat_minor": 4,
 "nbformat": 4,
 "cells": [
  {
   "cell_type": "code",
   "source": [
    "# !nvidia-smi\n",
    "# \n",
    "# import os\n",
    "# # 只使用第三块GPU。\n",
    "# os.environ[\"CUDA_VISIBLE_DEVICES\"] = \"0\""
   ],
   "metadata": {
    "execution": {
     "iopub.status.busy": "2023-09-09T17:09:06.285365Z",
     "iopub.execute_input": "2023-09-09T17:09:06.286530Z",
     "iopub.status.idle": "2023-09-09T17:09:25.878525Z",
     "shell.execute_reply.started": "2023-09-09T17:09:06.286489Z",
     "shell.execute_reply": "2023-09-09T17:09:25.877378Z"
    },
    "trusted": true,
    "ExecuteTime": {
     "end_time": "2023-09-09T17:54:34.329179600Z",
     "start_time": "2023-09-09T17:54:34.314602400Z"
    }
   },
   "execution_count": 1,
   "outputs": []
  },
  {
   "cell_type": "code",
   "source": [
    "# !pip install numpy==1.22.0"
   ],
   "metadata": {
    "execution": {
     "iopub.status.busy": "2023-09-09T17:24:08.319721Z",
     "iopub.execute_input": "2023-09-09T17:24:08.320687Z",
     "iopub.status.idle": "2023-09-09T17:24:19.803564Z",
     "shell.execute_reply.started": "2023-09-09T17:24:08.320648Z",
     "shell.execute_reply": "2023-09-09T17:24:19.802378Z"
    },
    "trusted": true,
    "ExecuteTime": {
     "end_time": "2023-09-09T17:54:34.344370300Z",
     "start_time": "2023-09-09T17:54:34.330177200Z"
    }
   },
   "execution_count": 2,
   "outputs": []
  },
  {
   "cell_type": "code",
   "source": [
    "# 导入所需的包\n",
    "import pandas as pd\n",
    "import numpy as np\n",
    "import matplotlib.pyplot as plt\n",
    "import seaborn as sns\n",
    "from sklearn.preprocessing import MinMaxScaler\n",
    "import os\n",
    "os.environ[\"CUDA_VISIBLE_DEVICES\"]=\"0\"\n",
    "# 读取数据\n",
    "attachment1 = pd.read_excel(\"CUMCM2023Problems/C题/6 个蔬菜品类的商品信息.xlsx\")\n",
    "attachment2 = pd.read_excel(\"CUMCM2023Problems/C题/销售流水明细数据.xlsx\")\n",
    "attachment3 = pd.read_excel(\"CUMCM2023Problems/C题/蔬菜类商品的批发价格.xlsx\")\n",
    "attachment4 = pd.read_excel(\"CUMCM2023Problems/C题/蔬菜类商品的近期损耗率.xlsx\")"
   ],
   "metadata": {
    "execution": {
     "iopub.status.busy": "2023-09-09T17:30:44.214951Z",
     "iopub.execute_input": "2023-09-09T17:30:44.215341Z",
     "iopub.status.idle": "2023-09-09T17:33:24.147248Z",
     "shell.execute_reply.started": "2023-09-09T17:30:44.215303Z",
     "shell.execute_reply": "2023-09-09T17:33:24.146283Z"
    },
    "trusted": true,
    "ExecuteTime": {
     "end_time": "2023-09-09T17:56:01.267566300Z",
     "start_time": "2023-09-09T17:54:34.348789700Z"
    }
   },
   "execution_count": 3,
   "outputs": []
  },
  {
   "cell_type": "markdown",
   "source": [
    "首先，您需要对数据进行归一化，并将时间序列数据转换为LSTM可以处理的格式。"
   ],
   "metadata": {}
  },
  {
   "cell_type": "code",
   "source": [
    "import pandas as pd\n",
    "import numpy as np\n",
    "import matplotlib.pyplot as plt\n",
    "from sklearn.preprocessing import MinMaxScaler\n",
    "from keras.models import Sequential\n",
    "from keras.layers import Dense, LSTM\n",
    "\n",
    "\n",
    "# Load the data\n",
    "daily_sales = attachment2\n",
    "# Group by the date and product ID to get daily sales volume for each product\n",
    "daily_sales = daily_sales.groupby(['销售日期', '单品编码'])['销量(千克)'].sum().reset_index()\n",
    "\n",
    "# Merge with attachment1 to get the category information\n",
    "daily_sales = daily_sales.merge(attachment1, on='单品编码', how='left')\n",
    "\n",
    "# Grouping the data by category and date\n",
    "category_sales = daily_sales.groupby(['销售日期', '分类名称'])['销量(千克)'].sum().unstack()\n",
    "look_back=3\n",
    "\n",
    "category_sales=category_sales.fillna(0)\n",
    "# # 数据归一化\n",
    "scaler = MinMaxScaler(feature_range=(0, 1))\n",
    "scaled_data = scaler.fit_transform(category_sales.values.reshape(-1, 1))\n",
    "# 将时间序列数据转换为LSTM所需的格式\n",
    "def create_dataset(dataset, look_back=1):\n",
    "    dataX, dataY = [], []\n",
    "    for i in range(len(dataset)-look_back-1):\n",
    "        a = dataset[i:(i+look_back), 0]\n",
    "        dataX.append(a)\n",
    "        dataY.append(dataset[i + look_back, 0])\n",
    "    return np.array(dataX), np.array(dataY)\n",
    "\n",
    "X, y = create_dataset(scaled_data, look_back)"
   ],
   "metadata": {
    "execution": {
     "iopub.status.busy": "2023-09-09T17:16:29.722358Z",
     "iopub.execute_input": "2023-09-09T17:16:29.722731Z",
     "iopub.status.idle": "2023-09-09T17:16:29.835163Z",
     "shell.execute_reply.started": "2023-09-09T17:16:29.722699Z",
     "shell.execute_reply": "2023-09-09T17:16:29.834153Z"
    },
    "trusted": true,
    "ExecuteTime": {
     "end_time": "2023-09-09T17:56:04.014883400Z",
     "start_time": "2023-09-09T17:56:01.267566300Z"
    }
   },
   "execution_count": 4,
   "outputs": []
  },
  {
   "cell_type": "markdown",
   "source": [],
   "metadata": {}
  },
  {
   "cell_type": "code",
   "source": [
    "import pandas as pd\n",
    "import numpy as np\n",
    "import matplotlib.pyplot as plt\n",
    "from sklearn.preprocessing import MinMaxScaler\n",
    "from keras.models import Sequential\n",
    "from keras.layers import Dense, LSTM\n",
    "\n",
    "# Load the data\n",
    "daily_sales = attachment2\n",
    "# Group by the date and product ID to get daily sales volume for each product\n",
    "daily_sales = daily_sales.groupby(['销售日期', '单品编码'])['销量(千克)'].sum().reset_index()\n",
    "\n",
    "# Merge with attachment1 to get the category information\n",
    "daily_sales = daily_sales.merge(attachment1, on='单品编码', how='left')\n",
    "\n",
    "# Grouping the data by category and date\n",
    "category_sales = daily_sales.groupby(['销售日期', '分类名称'])['销量(千克)'].sum().unstack()\n",
    "category_sales=category_sales.fillna(0)\n",
    "# # 数据归一化\n",
    "scaler = MinMaxScaler(feature_range=(0, 1))\n",
    "scaled_data = scaler.fit_transform(category_sales.values.reshape(-1, 1))\n",
    "# 将时间序列数据转换为LSTM所需的格式\n",
    "def create_dataset(dataset, look_back=1):\n",
    "    dataX, dataY = [], []\n",
    "    for i in range(len(dataset)-look_back-1):\n",
    "        a = dataset[i:(i+look_back), 0]\n",
    "        dataX.append(a)\n",
    "        dataY.append(dataset[i + look_back, 0])\n",
    "    return np.array(dataX), np.array(dataY)\n",
    "\n",
    "X, y = create_dataset(scaled_data, look_back)"
   ],
   "metadata": {
    "execution": {
     "iopub.status.busy": "2023-09-09T17:16:31.870627Z",
     "iopub.execute_input": "2023-09-09T17:16:31.871015Z",
     "iopub.status.idle": "2023-09-09T17:16:31.982997Z",
     "shell.execute_reply.started": "2023-09-09T17:16:31.870983Z",
     "shell.execute_reply": "2023-09-09T17:16:31.981752Z"
    },
    "trusted": true,
    "ExecuteTime": {
     "end_time": "2023-09-09T17:57:11.635544300Z",
     "start_time": "2023-09-09T17:57:11.487537500Z"
    }
   },
   "execution_count": 15,
   "outputs": []
  },
  {
   "cell_type": "code",
   "execution_count": 15,
   "outputs": [],
   "source": [],
   "metadata": {
    "collapsed": false,
    "ExecuteTime": {
     "end_time": "2023-09-09T17:57:11.643710100Z",
     "start_time": "2023-09-09T17:57:11.576219900Z"
    }
   }
  },
  {
   "cell_type": "code",
   "source": [
    "# 将数据划分为训练集和测试集\n",
    "train_size = int(len(X) * 0.67)\n",
    "test_size = len(X) - train_size\n",
    "X_train, X_test = X[0:train_size], X[train_size:len(X)]\n",
    "y_train, y_test = y[0:train_size], y[train_size:len(y)]\n",
    "\n",
    "# reshape input to be [samples, time steps, features]\n",
    "X_train = np.reshape(X_train, (X_train.shape[0], 1, X_train.shape[1]))\n",
    "X_test = np.reshape(X_test, (X_test.shape[0], 1, X_test.shape[1]))\n",
    "\n",
    "# 创建LSTM模型\n",
    "model = Sequential()\n",
    "model.add(LSTM(4, input_shape=(1, look_back)))\n",
    "model.add(Dense(1))\n",
    "model.compile(loss='mean_squared_error', optimizer='adam')\n",
    "model.fit(X_train, y_train, epochs=100, batch_size=25, verbose=2)\n"
   ],
   "metadata": {
    "execution": {
     "iopub.status.busy": "2023-09-09T17:16:33.911650Z",
     "iopub.execute_input": "2023-09-09T17:16:33.912031Z",
     "iopub.status.idle": "2023-09-09T17:17:34.132153Z",
     "shell.execute_reply.started": "2023-09-09T17:16:33.912000Z",
     "shell.execute_reply": "2023-09-09T17:17:34.131194Z"
    },
    "trusted": true,
    "ExecuteTime": {
     "end_time": "2023-09-09T17:57:32.188675100Z",
     "start_time": "2023-09-09T17:57:11.597410200Z"
    }
   },
   "execution_count": 16,
   "outputs": [
    {
     "name": "stdout",
     "output_type": "stream",
     "text": [
      "Epoch 1/100\n",
      "175/175 - 2s - loss: 0.0026 - 2s/epoch - 10ms/step\n",
      "Epoch 2/100\n",
      "175/175 - 0s - loss: 0.0023 - 191ms/epoch - 1ms/step\n",
      "Epoch 3/100\n",
      "175/175 - 0s - loss: 0.0023 - 185ms/epoch - 1ms/step\n",
      "Epoch 4/100\n",
      "175/175 - 0s - loss: 0.0022 - 184ms/epoch - 1ms/step\n",
      "Epoch 5/100\n",
      "175/175 - 0s - loss: 0.0022 - 188ms/epoch - 1ms/step\n",
      "Epoch 6/100\n",
      "175/175 - 0s - loss: 0.0022 - 189ms/epoch - 1ms/step\n",
      "Epoch 7/100\n",
      "175/175 - 0s - loss: 0.0022 - 185ms/epoch - 1ms/step\n",
      "Epoch 8/100\n",
      "175/175 - 0s - loss: 0.0022 - 186ms/epoch - 1ms/step\n",
      "Epoch 9/100\n",
      "175/175 - 0s - loss: 0.0022 - 188ms/epoch - 1ms/step\n",
      "Epoch 10/100\n",
      "175/175 - 0s - loss: 0.0022 - 186ms/epoch - 1ms/step\n",
      "Epoch 11/100\n",
      "175/175 - 0s - loss: 0.0022 - 184ms/epoch - 1ms/step\n",
      "Epoch 12/100\n",
      "175/175 - 0s - loss: 0.0022 - 189ms/epoch - 1ms/step\n",
      "Epoch 13/100\n",
      "175/175 - 0s - loss: 0.0022 - 188ms/epoch - 1ms/step\n",
      "Epoch 14/100\n",
      "175/175 - 0s - loss: 0.0022 - 183ms/epoch - 1ms/step\n",
      "Epoch 15/100\n",
      "175/175 - 0s - loss: 0.0022 - 192ms/epoch - 1ms/step\n",
      "Epoch 16/100\n",
      "175/175 - 0s - loss: 0.0022 - 185ms/epoch - 1ms/step\n",
      "Epoch 17/100\n",
      "175/175 - 0s - loss: 0.0022 - 182ms/epoch - 1ms/step\n",
      "Epoch 18/100\n",
      "175/175 - 0s - loss: 0.0022 - 182ms/epoch - 1ms/step\n",
      "Epoch 19/100\n",
      "175/175 - 0s - loss: 0.0022 - 186ms/epoch - 1ms/step\n",
      "Epoch 20/100\n",
      "175/175 - 0s - loss: 0.0022 - 181ms/epoch - 1ms/step\n",
      "Epoch 21/100\n",
      "175/175 - 0s - loss: 0.0022 - 186ms/epoch - 1ms/step\n",
      "Epoch 22/100\n",
      "175/175 - 0s - loss: 0.0022 - 193ms/epoch - 1ms/step\n",
      "Epoch 23/100\n",
      "175/175 - 0s - loss: 0.0022 - 187ms/epoch - 1ms/step\n",
      "Epoch 24/100\n",
      "175/175 - 0s - loss: 0.0022 - 183ms/epoch - 1ms/step\n",
      "Epoch 25/100\n",
      "175/175 - 0s - loss: 0.0022 - 185ms/epoch - 1ms/step\n",
      "Epoch 26/100\n",
      "175/175 - 0s - loss: 0.0022 - 195ms/epoch - 1ms/step\n",
      "Epoch 27/100\n",
      "175/175 - 0s - loss: 0.0022 - 184ms/epoch - 1ms/step\n",
      "Epoch 28/100\n",
      "175/175 - 0s - loss: 0.0021 - 185ms/epoch - 1ms/step\n",
      "Epoch 29/100\n",
      "175/175 - 0s - loss: 0.0021 - 180ms/epoch - 1ms/step\n",
      "Epoch 30/100\n",
      "175/175 - 0s - loss: 0.0021 - 190ms/epoch - 1ms/step\n",
      "Epoch 31/100\n",
      "175/175 - 0s - loss: 0.0021 - 218ms/epoch - 1ms/step\n",
      "Epoch 32/100\n",
      "175/175 - 0s - loss: 0.0021 - 193ms/epoch - 1ms/step\n",
      "Epoch 33/100\n",
      "175/175 - 0s - loss: 0.0021 - 198ms/epoch - 1ms/step\n",
      "Epoch 34/100\n",
      "175/175 - 0s - loss: 0.0021 - 195ms/epoch - 1ms/step\n",
      "Epoch 35/100\n",
      "175/175 - 0s - loss: 0.0021 - 184ms/epoch - 1ms/step\n",
      "Epoch 36/100\n",
      "175/175 - 0s - loss: 0.0021 - 183ms/epoch - 1ms/step\n",
      "Epoch 37/100\n",
      "175/175 - 0s - loss: 0.0021 - 180ms/epoch - 1ms/step\n",
      "Epoch 38/100\n",
      "175/175 - 0s - loss: 0.0021 - 179ms/epoch - 1ms/step\n",
      "Epoch 39/100\n",
      "175/175 - 0s - loss: 0.0021 - 186ms/epoch - 1ms/step\n",
      "Epoch 40/100\n",
      "175/175 - 0s - loss: 0.0021 - 185ms/epoch - 1ms/step\n",
      "Epoch 41/100\n",
      "175/175 - 0s - loss: 0.0021 - 180ms/epoch - 1ms/step\n",
      "Epoch 42/100\n",
      "175/175 - 0s - loss: 0.0021 - 184ms/epoch - 1ms/step\n",
      "Epoch 43/100\n",
      "175/175 - 0s - loss: 0.0021 - 183ms/epoch - 1ms/step\n",
      "Epoch 44/100\n",
      "175/175 - 0s - loss: 0.0021 - 190ms/epoch - 1ms/step\n",
      "Epoch 45/100\n",
      "175/175 - 0s - loss: 0.0021 - 182ms/epoch - 1ms/step\n",
      "Epoch 46/100\n",
      "175/175 - 0s - loss: 0.0021 - 185ms/epoch - 1ms/step\n",
      "Epoch 47/100\n",
      "175/175 - 0s - loss: 0.0021 - 184ms/epoch - 1ms/step\n",
      "Epoch 48/100\n",
      "175/175 - 0s - loss: 0.0021 - 186ms/epoch - 1ms/step\n",
      "Epoch 49/100\n",
      "175/175 - 0s - loss: 0.0021 - 188ms/epoch - 1ms/step\n",
      "Epoch 50/100\n",
      "175/175 - 0s - loss: 0.0021 - 185ms/epoch - 1ms/step\n",
      "Epoch 51/100\n",
      "175/175 - 0s - loss: 0.0021 - 182ms/epoch - 1ms/step\n",
      "Epoch 52/100\n",
      "175/175 - 0s - loss: 0.0021 - 183ms/epoch - 1ms/step\n",
      "Epoch 53/100\n",
      "175/175 - 0s - loss: 0.0021 - 181ms/epoch - 1ms/step\n",
      "Epoch 54/100\n",
      "175/175 - 0s - loss: 0.0021 - 182ms/epoch - 1ms/step\n",
      "Epoch 55/100\n",
      "175/175 - 0s - loss: 0.0021 - 186ms/epoch - 1ms/step\n",
      "Epoch 56/100\n",
      "175/175 - 0s - loss: 0.0021 - 196ms/epoch - 1ms/step\n",
      "Epoch 57/100\n",
      "175/175 - 0s - loss: 0.0021 - 207ms/epoch - 1ms/step\n",
      "Epoch 58/100\n",
      "175/175 - 0s - loss: 0.0021 - 201ms/epoch - 1ms/step\n",
      "Epoch 59/100\n",
      "175/175 - 0s - loss: 0.0021 - 186ms/epoch - 1ms/step\n",
      "Epoch 60/100\n",
      "175/175 - 0s - loss: 0.0021 - 186ms/epoch - 1ms/step\n",
      "Epoch 61/100\n",
      "175/175 - 0s - loss: 0.0021 - 184ms/epoch - 1ms/step\n",
      "Epoch 62/100\n",
      "175/175 - 0s - loss: 0.0021 - 184ms/epoch - 1ms/step\n",
      "Epoch 63/100\n",
      "175/175 - 0s - loss: 0.0021 - 180ms/epoch - 1ms/step\n",
      "Epoch 64/100\n",
      "175/175 - 0s - loss: 0.0021 - 191ms/epoch - 1ms/step\n",
      "Epoch 65/100\n",
      "175/175 - 0s - loss: 0.0020 - 185ms/epoch - 1ms/step\n",
      "Epoch 66/100\n",
      "175/175 - 0s - loss: 0.0020 - 183ms/epoch - 1ms/step\n",
      "Epoch 67/100\n",
      "175/175 - 0s - loss: 0.0020 - 186ms/epoch - 1ms/step\n",
      "Epoch 68/100\n",
      "175/175 - 0s - loss: 0.0020 - 185ms/epoch - 1ms/step\n",
      "Epoch 69/100\n",
      "175/175 - 0s - loss: 0.0020 - 191ms/epoch - 1ms/step\n",
      "Epoch 70/100\n",
      "175/175 - 0s - loss: 0.0020 - 187ms/epoch - 1ms/step\n",
      "Epoch 71/100\n",
      "175/175 - 0s - loss: 0.0020 - 189ms/epoch - 1ms/step\n",
      "Epoch 72/100\n",
      "175/175 - 0s - loss: 0.0020 - 188ms/epoch - 1ms/step\n",
      "Epoch 73/100\n",
      "175/175 - 0s - loss: 0.0020 - 186ms/epoch - 1ms/step\n",
      "Epoch 74/100\n",
      "175/175 - 0s - loss: 0.0020 - 188ms/epoch - 1ms/step\n",
      "Epoch 75/100\n",
      "175/175 - 0s - loss: 0.0020 - 199ms/epoch - 1ms/step\n",
      "Epoch 76/100\n",
      "175/175 - 0s - loss: 0.0020 - 188ms/epoch - 1ms/step\n",
      "Epoch 77/100\n",
      "175/175 - 0s - loss: 0.0020 - 189ms/epoch - 1ms/step\n",
      "Epoch 78/100\n",
      "175/175 - 0s - loss: 0.0020 - 200ms/epoch - 1ms/step\n",
      "Epoch 79/100\n",
      "175/175 - 0s - loss: 0.0020 - 186ms/epoch - 1ms/step\n",
      "Epoch 80/100\n",
      "175/175 - 0s - loss: 0.0020 - 190ms/epoch - 1ms/step\n",
      "Epoch 81/100\n",
      "175/175 - 0s - loss: 0.0020 - 197ms/epoch - 1ms/step\n",
      "Epoch 82/100\n",
      "175/175 - 0s - loss: 0.0020 - 196ms/epoch - 1ms/step\n",
      "Epoch 83/100\n",
      "175/175 - 0s - loss: 0.0020 - 188ms/epoch - 1ms/step\n",
      "Epoch 84/100\n",
      "175/175 - 0s - loss: 0.0020 - 194ms/epoch - 1ms/step\n",
      "Epoch 85/100\n",
      "175/175 - 0s - loss: 0.0020 - 193ms/epoch - 1ms/step\n",
      "Epoch 86/100\n",
      "175/175 - 0s - loss: 0.0020 - 181ms/epoch - 1ms/step\n",
      "Epoch 87/100\n",
      "175/175 - 0s - loss: 0.0020 - 183ms/epoch - 1ms/step\n",
      "Epoch 88/100\n",
      "175/175 - 0s - loss: 0.0020 - 186ms/epoch - 1ms/step\n",
      "Epoch 89/100\n",
      "175/175 - 0s - loss: 0.0020 - 183ms/epoch - 1ms/step\n",
      "Epoch 90/100\n",
      "175/175 - 0s - loss: 0.0020 - 192ms/epoch - 1ms/step\n",
      "Epoch 91/100\n",
      "175/175 - 0s - loss: 0.0020 - 197ms/epoch - 1ms/step\n",
      "Epoch 92/100\n",
      "175/175 - 0s - loss: 0.0020 - 188ms/epoch - 1ms/step\n",
      "Epoch 93/100\n",
      "175/175 - 0s - loss: 0.0020 - 186ms/epoch - 1ms/step\n",
      "Epoch 94/100\n",
      "175/175 - 0s - loss: 0.0020 - 184ms/epoch - 1ms/step\n",
      "Epoch 95/100\n",
      "175/175 - 0s - loss: 0.0020 - 186ms/epoch - 1ms/step\n",
      "Epoch 96/100\n",
      "175/175 - 0s - loss: 0.0020 - 190ms/epoch - 1ms/step\n",
      "Epoch 97/100\n",
      "175/175 - 0s - loss: 0.0020 - 184ms/epoch - 1ms/step\n",
      "Epoch 98/100\n",
      "175/175 - 0s - loss: 0.0020 - 187ms/epoch - 1ms/step\n",
      "Epoch 99/100\n",
      "175/175 - 0s - loss: 0.0020 - 186ms/epoch - 1ms/step\n",
      "Epoch 100/100\n",
      "175/175 - 0s - loss: 0.0020 - 189ms/epoch - 1ms/step\n"
     ]
    },
    {
     "data": {
      "text/plain": "<keras.src.callbacks.History at 0x175a1eff580>"
     },
     "execution_count": 16,
     "metadata": {},
     "output_type": "execute_result"
    }
   ]
  },
  {
   "cell_type": "code",
   "source": [
    "# model.save('/kaggle/working/model')"
   ],
   "metadata": {
    "execution": {
     "iopub.status.busy": "2023-09-09T17:15:58.976031Z",
     "iopub.status.idle": "2023-09-09T17:15:58.976388Z",
     "shell.execute_reply.started": "2023-09-09T17:15:58.976220Z",
     "shell.execute_reply": "2023-09-09T17:15:58.976236Z"
    },
    "trusted": true,
    "ExecuteTime": {
     "end_time": "2023-09-09T17:57:32.230155900Z",
     "start_time": "2023-09-09T17:57:32.187675Z"
    }
   },
   "execution_count": 17,
   "outputs": []
  },
  {
   "cell_type": "code",
   "source": [
    "# from keras.models import load_model\n",
    "# model = load_model('/kaggle/working/model')"
   ],
   "metadata": {
    "execution": {
     "iopub.status.busy": "2023-09-09T17:13:26.475812Z",
     "iopub.execute_input": "2023-09-09T17:13:26.476170Z",
     "iopub.status.idle": "2023-09-09T17:13:28.112278Z",
     "shell.execute_reply.started": "2023-09-09T17:13:26.476135Z",
     "shell.execute_reply": "2023-09-09T17:13:28.111289Z"
    },
    "trusted": true,
    "ExecuteTime": {
     "end_time": "2023-09-09T17:57:32.251635900Z",
     "start_time": "2023-09-09T17:57:32.204211Z"
    }
   },
   "execution_count": 18,
   "outputs": []
  },
  {
   "cell_type": "code",
   "source": [
    "# 预测\n",
    "train_predict = model.predict(X_train)\n",
    "test_predict = model.predict(X_test)\n",
    "\n",
    "# 反归一化\n",
    "train_predict = scaler.inverse_transform(train_predict)\n",
    "y_train = scaler.inverse_transform([y_train])\n",
    "test_predict = scaler.inverse_transform(test_predict)\n",
    "y_test = scaler.inverse_transform([y_test])\n",
    "\n",
    "# 计算root mean squared error\n",
    "train_score = np.sqrt(np.mean((train_predict-y_train)**2))\n",
    "print('Train Score: %.2f RMSE' % (train_score))\n",
    "test_score = np.sqrt(np.mean((test_predict-y_test)**2))\n",
    "print('Test Score: %.2f RMSE' % (test_score))\n",
    "\n"
   ],
   "metadata": {
    "execution": {
     "iopub.status.busy": "2023-09-09T17:14:10.931008Z",
     "iopub.execute_input": "2023-09-09T17:14:10.931420Z",
     "iopub.status.idle": "2023-09-09T17:14:11.911112Z",
     "shell.execute_reply.started": "2023-09-09T17:14:10.931386Z",
     "shell.execute_reply": "2023-09-09T17:14:11.909917Z"
    },
    "trusted": true,
    "ExecuteTime": {
     "end_time": "2023-09-09T17:57:32.967633200Z",
     "start_time": "2023-09-09T17:57:32.222092800Z"
    }
   },
   "execution_count": 19,
   "outputs": [
    {
     "name": "stdout",
     "output_type": "stream",
     "text": [
      "137/137 [==============================] - 0s 766us/step\n",
      "68/68 [==============================] - 0s 685us/step\n",
      "Train Score: 65.63 RMSE\n",
      "Test Score: 99.01 RMSE\n"
     ]
    }
   ]
  },
  {
   "cell_type": "code",
   "source": [],
   "metadata": {
    "ExecuteTime": {
     "end_time": "2023-09-09T17:57:32.984237200Z",
     "start_time": "2023-09-09T17:57:32.963113300Z"
    }
   },
   "execution_count": 19,
   "outputs": []
  },
  {
   "cell_type": "code",
   "source": [
    "# 绘图\n",
    "# plt.plot(scaler.inverse_transform(scaled_data))\n",
    "train_predict_plot = np.empty_like(scaled_data)\n",
    "train_predict_plot[:, :] = np.nan\n",
    "train_predict_plot[look_back:len(train_predict)+look_back, :] = train_predict\n",
    "\n",
    "print(len(train_predict)+(look_back*2)+1)\n",
    "print(len(scaled_data)-1)\n",
    "test_predict_plot = np.empty_like(scaled_data)\n",
    "test_predict_plot[len(train_predict)+(look_back)+1:len(scaled_data), :] = test_predict\n",
    "\n",
    "# plt.plot(train_predict_plot)\n",
    "# plt.plot(test_predict_plot)\n",
    "plt.show()"
   ],
   "metadata": {
    "execution": {
     "iopub.status.busy": "2023-09-09T17:53:03.752821Z",
     "iopub.execute_input": "2023-09-09T17:53:03.753207Z",
     "iopub.status.idle": "2023-09-09T17:53:04.004751Z",
     "shell.execute_reply.started": "2023-09-09T17:53:03.753176Z",
     "shell.execute_reply": "2023-09-09T17:53:04.003811Z"
    },
    "trusted": true,
    "ExecuteTime": {
     "end_time": "2023-09-09T17:59:55.883598200Z",
     "start_time": "2023-09-09T17:59:55.711539700Z"
    }
   },
   "execution_count": 27,
   "outputs": [
    {
     "name": "stdout",
     "output_type": "stream",
     "text": [
      "4366\n",
      "6509\n"
     ]
    },
    {
     "data": {
      "text/plain": "<Figure size 640x480 with 1 Axes>",
      "image/png": "[encoded data removed]"
     },
     "metadata": {},
     "output_type": "display_data"
    }
   ]
  },
  {
   "cell_type": "markdown",
   "source": [
    "2. 建立LSTM模型\n",
    "接下来，您需要定义LSTM的结构并编译模型。"
   ],
   "metadata": {}
  },
  {
   "cell_type": "markdown",
   "source": [
    "3. 训练模型\n",
    "使用您的训练数据训练LSTM模型。"
   ],
   "metadata": {}
  },
  {
   "cell_type": "markdown",
   "source": [
    "4. 进行预测\n",
    "使用训练好的LSTM模型对测试数据进行预测。"
   ],
   "metadata": {}
  },
  {
   "cell_type": "markdown",
   "source": [
    "预测未来一周的销售量：\n",
    "\n",
    "使用LSTM或其他时间序列预测模型预测每个蔬菜品类的未来一周销售量。\n",
    "确定补货策略：\n",
    "\n",
    "基于预测销售量，加上安全库存（以应对预测误差）来确定补货量。\n",
    "考虑损耗率来进一步调整补货量。例如，如果某个蔬菜的损耗率为10%，那么您可能需要增加10%的补货量以应对这种损耗。\n",
    "制定定价策略：\n",
    "\n",
    "使用“成本加成定价”方法：先确定每个蔬菜品类的成本，然后加上预期的利润率来确定售价。\n",
    "考虑市场竞争、季节性因素和其他因素来调整价格。\n",
    "如果蔬菜品相变差，可以提供折扣以加速销售。\n",
    "也可以考虑使用动态定价策略，例如，如果某天销售量低于预期，可以稍微降低价格以吸引更多顾客。\n",
    "最大化收益的策略：\n",
    "\n",
    "根据预测的销售量、定价策略和成本来模拟未来一周的预期收益。\n",
    "使用优化算法（如线性规划）来确定能够最大化收益的最佳定价和补货策略。"
   ],
   "metadata": {}
  },
  {
   "cell_type": "code",
   "source": [
    "import os\n",
    "import zipfile\n",
    "import datetime\n",
    "\n",
    "def file2zip(packagePath, zipPath):\n",
    "    '''\n",
    "  :param packagePath: 文件夹路径\n",
    "  :param zipPath: 压缩包路径\n",
    "  :return:\n",
    "  '''\n",
    "    zip = zipfile.ZipFile(zipPath, 'w', zipfile.ZIP_DEFLATED)\n",
    "    for path, dirNames, fileNames in os.walk(packagePath):\n",
    "        fpath = path.replace(packagePath, '')\n",
    "        for name in fileNames:\n",
    "            fullName = os.path.join(path, name)\n",
    "            name = fpath + '\\\\' + name\n",
    "            zip.write(fullName, name)\n",
    "    zip.close()\n",
    "\n",
    "\n",
    "if __name__ == \"__main__\":\n",
    "    # 文件夹路径\n",
    "    packagePath = '/kaggle/working/'\n",
    "    zipPath = '/kaggle/working/output.zip'\n",
    "    if os.path.exists(zipPath):\n",
    "        os.remove(zipPath)\n",
    "    file2zip(packagePath, zipPath)\n",
    "    print(\"打包完成\")\n",
    "    print(datetime.datetime.utcnow())\n"
   ],
   "metadata": {
    "execution": {
     "iopub.status.busy": "2023-09-09T17:13:29.838722Z",
     "iopub.status.idle": "2023-09-09T17:13:29.839175Z",
     "shell.execute_reply.started": "2023-09-09T17:13:29.838938Z",
     "shell.execute_reply": "2023-09-09T17:13:29.838960Z"
    },
    "trusted": true,
    "ExecuteTime": {
     "end_time": "2023-09-09T17:57:33.203871200Z",
     "start_time": "2023-09-09T17:57:33.151380800Z"
    }
   },
   "execution_count": 21,
   "outputs": [
    {
     "name": "stdout",
     "output_type": "stream",
     "text": [
      "打包完成\n",
      "2023-09-09 17:57:33.159893\n"
     ]
    }
   ]
  }
 ]
}
