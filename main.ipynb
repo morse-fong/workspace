{
 "cells": [
  {
   "cell_type": "code",
   "execution_count": 131,
   "id": "initial_id",
   "metadata": {
    "collapsed": true
   },
   "outputs": [],
   "source": [
    "import pandas as pd\n",
    "import numpy as np"
   ]
  },
  {
   "cell_type": "markdown",
   "source": [
    "##### 数据查看"
   ],
   "metadata": {
    "collapsed": false
   },
   "id": "2899af2122e1b913"
  },
  {
   "cell_type": "code",
   "execution_count": null,
   "outputs": [],
   "source": [
    "# 附件一至附件四\n",
    "data1 = pd.read_excel(\"CUMCM2023Problems/C题/6 个蔬菜品类的商品信息.xlsx\")\n",
    "data2 = pd.read_excel(\"CUMCM2023Problems/C题/销售流水明细数据.xlsx\")\n",
    "data3 = pd.read_excel(\"CUMCM2023Problems/C题/蔬菜类商品的批发价格.xlsx\")\n",
    "data4 = pd.read_excel(\"CUMCM2023Problems/C题/蔬菜类商品的近期损耗率.xlsx\")\n"
   ],
   "metadata": {
    "collapsed": false
   },
   "id": "68a6735a18f275af"
  },
  {
   "cell_type": "code",
   "execution_count": null,
   "outputs": [],
   "source": [
    "print(data1.columns)\n",
    "print(data2.columns)\n",
    "print(data3.columns)\n",
    "print(data4.columns)"
   ],
   "metadata": {
    "collapsed": false
   },
   "id": "c2c459fd5841e4ac"
  },
  {
   "cell_type": "code",
   "execution_count": null,
   "outputs": [],
   "source": [
    "data2[data2['是否打折销售'] == '是'][['销售日期', '扫码销售时间']].value_counts()"
   ],
   "metadata": {
    "collapsed": false
   },
   "id": "4f5e060133ecf443"
  },
  {
   "cell_type": "code",
   "execution_count": null,
   "outputs": [],
   "source": [
    "# 附件二切分demo，便于编程，最终应删去\n",
    "data2_replace = data2.sample(100000)\n",
    "\n",
    "# 删除未售出商品\n",
    "p = [102900011032145,\n",
    "     102900011023648,\n",
    "     102900011011782,\n",
    "     102900005116776,\n",
    "     102900005116042]\n",
    "data1.drop(labels=data1[data1['单品编码'].isin(p)].index, axis=0, inplace=True)\n",
    "data3.drop(labels=data3[data3['单品编码'].isin(p)].index, axis=0, inplace=True)\n",
    "data4.drop(labels=data4[data4['单品编码'].isin(p)].index, axis=0, inplace=True)\n",
    "\n",
    "# 合并表一与表二\n",
    "datas_replace = pd.merge(data2_replace, data1, how='left', on='单品编码')\n",
    "datas = pd.merge(data2, data1, how='left', on='单品编码')\n",
    "\n",
    "x = data2['销售日期'].value_counts().keys().sort_values()\n",
    "y1 = data1['单品编码'].value_counts().keys().tolist()\n",
    "y2 = data1['分类编码'].value_counts().keys().tolist()\n",
    "# datas=[data1,data2,data3,data4]"
   ],
   "metadata": {
    "collapsed": false
   },
   "id": "7f5e327f49fa23e9"
  },
  {
   "cell_type": "code",
   "execution_count": null,
   "outputs": [],
   "source": [],
   "metadata": {
    "collapsed": false
   },
   "id": "d1feb7ee7b5e6a88"
  },
  {
   "cell_type": "markdown",
   "source": [
    "##### 清洗数据（未发现异常数据，暂时没有此步骤）"
   ],
   "metadata": {
    "collapsed": false
   },
   "id": "69deca33fd80d59c"
  },
  {
   "cell_type": "code",
   "execution_count": null,
   "outputs": [],
   "source": [
    "# for i in datas:\n",
    "#     for j in i.columns:\n",
    "#         print(i[j].value_counts())"
   ],
   "metadata": {
    "collapsed": false
   },
   "id": "95571d2fb0b14d36"
  },
  {
   "cell_type": "markdown",
   "source": [
    "### 问题一"
   ],
   "metadata": {
    "collapsed": false
   },
   "id": "8581764b0add516f"
  },
  {
   "cell_type": "code",
   "execution_count": null,
   "outputs": [],
   "source": [
    "# # 获得每日销售总量\n",
    "# Totaldailysales = pd.DataFrame(\n",
    "#     columns=['销售日期', '销量(千克)', '单品编码/分类编码', '单品名称', '分类编码', '分类名称'])\n",
    "# Totaldailysales.set_index(['销售日期', '单品编码/分类编码'], drop=True, inplace=True)\n",
    "# for i in datas['销售日期'].value_counts().keys():\n",
    "#     daydata = datas[datas['销售日期'] == i]\n",
    "#     for j in daydata['单品编码'].value_counts().keys():\n",
    "#         daydata1 = daydata[daydata['单品编码'] == j]\n",
    "#         Totaldailysales.loc[(i, j), :] = [sum(daydata1['销量(千克)'])] + daydata1.iloc[0][\n",
    "#             ['单品名称', '分类编码', '分类名称']].tolist()\n",
    "#     for j in daydata['分类编码'].value_counts().keys():\n",
    "#         daydata2 = daydata[daydata['分类编码'] == j]\n",
    "#         Totaldailysales.loc[(i, j), :] = [sum(daydata2['销量(千克)'])] + [None] + daydata2.iloc[0][\n",
    "#             ['分类编码', '分类名称']].tolist()\n",
    "# # 获得每日销售总量\n",
    "# Totaldailysales_replace = pd.DataFrame(\n",
    "#     columns=['销售日期', '销量(千克)', '单品编码/分类编码', '单品名称', '分类编码', '分类名称'])\n",
    "# Totaldailysales_replace.set_index(['销售日期', '单品编码/分类编码'], drop=True, inplace=True)\n",
    "# for i in datas_replace['销售日期'].value_counts().keys():\n",
    "#     daydata = datas_replace[datas['销售日期'] == i]\n",
    "#     for j in daydata['单品编码'].value_counts().keys():\n",
    "#         daydata1 = daydata[daydata['单品编码'] == j]\n",
    "#         Totaldailysales_replace.loc[(i, j), :] = [sum(daydata1['销量(千克)'])] + daydata1.iloc[0][\n",
    "#             ['单品名称', '分类编码', '分类名称']].tolist()\n",
    "#     for j in daydata['分类编码'].value_counts().keys():\n",
    "#         daydata2 = daydata[daydata['分类编码'] == j]\n",
    "#         Totaldailysales_replace.loc[(i, j), :] = [sum(daydata2['销量(千克)'])] + [None] + daydata2.iloc[0][\n",
    "#             ['分类编码', '分类名称']].tolist()\n",
    "# \n",
    "# #补充Totaldailysales表\n",
    "# for i in y1+y2:\n",
    "#     for j in x:\n",
    "#         try:\n",
    "#             Totaldailysales.loc[(j, i)]\n",
    "#         except:\n",
    "#             Totaldailysales.loc[(j, i), :] = [0, None, None, None]"
   ],
   "metadata": {
    "collapsed": false
   },
   "id": "31135e179724646a"
  },
  {
   "cell_type": "code",
   "execution_count": null,
   "outputs": [],
   "source": [
    "# 获得每日销售总量\n",
    "Totaldailysales = pd.DataFrame(columns=['销售日期'] + y1 + y2)\n",
    "\n",
    "Totaldailysales.set_index(['销售日期'], drop=True, inplace=True)\n",
    "for i in x:\n",
    "    daydata = datas[datas['销售日期'] == i]\n",
    "    for j in daydata['单品编码'].value_counts().keys():\n",
    "        daydata1 = daydata[daydata['单品编码'] == j]\n",
    "        Totaldailysales.loc[i, j] = sum(daydata1['销量(千克)'])\n",
    "    for j in daydata['分类编码'].value_counts().keys():\n",
    "        daydata2 = daydata[daydata['分类编码'] == j]\n",
    "        Totaldailysales.loc[i, j] = sum(daydata2['销量(千克)'])\n"
   ],
   "metadata": {
    "collapsed": false
   },
   "id": "79fe31bc5a385607"
  },
  {
   "cell_type": "code",
   "execution_count": null,
   "outputs": [],
   "source": [
    "data1"
   ],
   "metadata": {
    "collapsed": false
   },
   "id": "135b9db84bf4823a"
  },
  {
   "cell_type": "markdown",
   "source": [
    "###### 可视化,横坐标为每一天，纵坐标为当天的销售总额（kg)，这里的是分类（6类）绘图，将第7行改为y1即为对每一个单品绘图（太多了点）"
   ],
   "metadata": {
    "collapsed": false
   },
   "id": "a9188c92ceed5f12"
  },
  {
   "cell_type": "code",
   "execution_count": null,
   "outputs": [],
   "source": [
    "import matplotlib.pyplot as plt\n",
    "\n",
    "plt.rcParams['font.sans-serif'] = ['SimHei']\n",
    "plt.rcParams['axes.unicode_minus'] = False\n",
    "\n",
    "# plt.figure(figsize=(25.60, 14.40))\n",
    "plt.figure(figsize=(16, 8))\n",
    "lines = []\n",
    "label=[]\n",
    "j = 0\n",
    "\n",
    "Peaksales=pd.DataFrame(columns = ['单品编码','销量（kg）'])\n",
    "Peaksales.set_index(['单品编码'], drop=True, inplace=True)\n",
    "\n",
    "for i in y1:\n",
    "    Peaksales.loc[i]=np.nansum(Totaldailysales[i])\n",
    "Peaksales.sort_values( by='销量（kg）',ascending=False, inplace=True)\n",
    "\n",
    "# for i in y1:\n",
    "# for i in Peaksales.iloc[:30,].index:\n",
    "for i in y2:\n",
    "    # label.append(data1[data1['分类编码']==i]['分类名称'].iloc[0])\n",
    "    # if (np.random.random()<0.1):\n",
    "        label.append(data1[data1['单品编码']==i]['单品名称'].values[0])\n",
    "        y = []\n",
    "        j = j + 1\n",
    "        line, = plt.plot(x, Totaldailysales[i])\n",
    "        lines.append(line)\n",
    "\n",
    "    \n",
    "# plt.xticks(rotation=90)\n",
    "plt.legend(handles=lines, labels=label, loc='best')\n",
    "plt.xlabel('日期')\n",
    "plt.ylabel('每日总销量（kg）')\n",
    "plt.savefig(\"每日总销量变化(随机10%）\")\n",
    "plt.show()\n",
    "\n"
   ],
   "metadata": {
    "collapsed": false
   },
   "id": "30667339b2c5a32a"
  },
  {
   "cell_type": "code",
   "execution_count": null,
   "outputs": [],
   "source": [],
   "metadata": {
    "collapsed": false
   },
   "id": "3619b8c16e37661f"
  },
  {
   "cell_type": "markdown",
   "source": [
    "###### y1出现尖峰，检查发现为2022-11-21日，2022-11-21,102900005118831,407.0,娃娃菜,1011010101,花叶类，买了407kg娃娃菜。是否需要剔除？\n",
    "\n",
    "###### y2出现尖峰，检查发现为2022-11-19日，不知道为什么这一天的流水多了很多，其他时候是1000单上下，这一天到了3000单，但是没有发现哪一单有问题的，应该单纯成交量大"
   ],
   "metadata": {
    "collapsed": false
   },
   "id": "7fd007202752be36"
  },
  {
   "cell_type": "code",
   "execution_count": null,
   "outputs": [],
   "source": [
    "import scipy.stats as stats\n",
    "import numpy as np\n",
    "import pandas as pd\n",
    "\n",
    "Averagedailyvolume = pd.DataFrame(columns=['单品编码/分类编码', '平均每日销量(千克)'])\n",
    "Averagedailyvolume.set_index(['单品编码/分类编码'], drop=True, inplace=True)\n",
    "Totaldays = Totaldailysales.shape[0]\n",
    "for i in y2:\n",
    "    Averagedailyvolume.loc[i, '平均每日销量(千克)'] = np.nansum(Totaldailysales[i]) / Totaldays\n",
    "    # Averagedailyvolume.loc[i,'平均每日销量(千克)']=np.nanmean(Totaldailysales[i])\n",
    "Averagedailyvolume.dropna(axis=0, how='all', inplace=True)\n",
    "Averagedailyvolume"
   ],
   "metadata": {
    "collapsed": false
   },
   "id": "4ce448e88f773bfb"
  },
  {
   "cell_type": "markdown",
   "source": [
    "###### 数据标准化"
   ],
   "metadata": {
    "collapsed": false
   },
   "id": "661341116d346ced"
  },
  {
   "cell_type": "code",
   "execution_count": null,
   "outputs": [],
   "source": [
    "from sklearn.preprocessing import StandardScaler\n",
    "\n",
    "transfer = StandardScaler()\n",
    "Averagedailyvolume = transfer.fit_transform(\n",
    "    np.array([Averagedailyvolume.index, Averagedailyvolume['平均每日销量(千克)']]).T)"
   ],
   "metadata": {
    "collapsed": false
   },
   "id": "11c879f4bc67ba70"
  },
  {
   "cell_type": "markdown",
   "source": [
    "##### levene检验，Brown-Forsythe检验，"
   ],
   "metadata": {
    "collapsed": false
   },
   "id": "89caf26fe72ffa8d"
  },
  {
   "cell_type": "code",
   "execution_count": null,
   "outputs": [],
   "source": [
    "# edu = [Averagedailyvolume.index, Averagedailyvolume['平均每日销量(千克)']]\n",
    "# # edu=[Averagedailyvolume[:,0], Averagedailyvolume[:,1]]\n",
    "# # levene检验\n",
    "# (levene_W, levene_p) = stats.levene(*edu)\n",
    "# print(levene_W, levene_p)\n",
    "# \n",
    "# # Brown-Forsythe检验\n",
    "# (Brown_W, Brown_p) = stats.levene(edu[0], edu[1], center='median')\n",
    "# print(Brown_W, Brown_p)\n",
    "# # f检验\n",
    "# f_value, p_value = stats.f_oneway(edu[0], edu[1])\n",
    "# print(\"F-value:\", f_value)\n",
    "# print(\"P-value:\", p_value)"
   ],
   "metadata": {
    "collapsed": false
   },
   "id": "caffc6c611a753dc"
  },
  {
   "cell_type": "markdown",
   "source": [
    "###### 方差分析"
   ],
   "metadata": {
    "collapsed": false
   },
   "id": "6bcbb0c12aae0244"
  },
  {
   "cell_type": "code",
   "execution_count": null,
   "outputs": [],
   "source": [
    "# import pandas as pd\n",
    "# import numpy as np\n",
    "# import seaborn as sns\n",
    "# import matplotlib.pyplot as plt\n",
    "# from statsmodels.formula.api import ols\n",
    "# from scipy.stats import levene\n",
    "# from scipy.stats import kstest\n",
    "# from statsmodels.stats.anova import anova_lm  #方差分析\n",
    "# from statsmodels.stats.multicomp import pairwise_tukeyhsd  #两两比较\n",
    "# import pingouin as pg\n",
    "# \n",
    "# \n",
    "# def anova_d(column, data):\n",
    "#     if levene_p.pvalue > 0.05:\n",
    "#         formula = column + \"~ C(market_type)\"\n",
    "#         model = anova_lm(ols(formula, data=data).fit())\n",
    "#         print(model)\n",
    "#         re = pairwise_tukeyhsd(data[column], data['market_type'], alpha=0.05)\n",
    "#         print('多重比较：')\n",
    "#         print(re.summary())\n",
    "#     else:\n",
    "#         model = pg.welch_anova(dv=column, between='market_type', data=data)\n",
    "#         print(model)\n",
    "#         print('多重比较：')\n",
    "#         print(pg.pairwise_gameshowell(dv=column, between='market_type', data=data))"
   ],
   "metadata": {
    "collapsed": false
   },
   "id": "f005213892d05c7b"
  },
  {
   "cell_type": "code",
   "execution_count": null,
   "outputs": [],
   "source": [
    "# import scipy.stats as stats\n",
    "# import numpy as np\n",
    "# import pandas as pd\n",
    "# \n",
    "# for i in data2['单品编码'].value_counts().keys():\n",
    "#     # levene检验（未通过）\n",
    "#     (W, p) = stats.levene(data2[data2['单品编码'] == i]['销量(千克)'])\n",
    "#     print(W, p)\n",
    "# \n",
    "#     # Brown-Forsythe检验（未通过）\n",
    "#     (W, p) = stats.levene(data2[data2['单品编码'] == i]['销量(千克)'], center='median')\n",
    "#     print(W, p)\n",
    "# \n",
    "#     f_value, p_value = stats.f_oneway(data2[data2['单品编码'] == i]['销量(千克)'])\n",
    "#     print(\"F-value:\", f_value)\n",
    "#     print(\"P-value:\", p_value)"
   ],
   "metadata": {
    "collapsed": false
   },
   "id": "cdb2b93d54db5f6f"
  },
  {
   "cell_type": "code",
   "execution_count": null,
   "outputs": [],
   "source": [
    "# #两组数对比时，检查独立T检验和F检验是否一致\n",
    "# \n",
    "# # First, calculate the F- and the T-values, ...\n",
    "# F_statistic, pVal = stats.f_oneway(data2['单品编码'], data2['销量(千克)'])\n",
    "# t_val, pVal_t = stats.ttest_ind(data2['单品编码'], data2['销量(千克)'])\n",
    "# \n",
    "# # ... and show that t**2 = F\n",
    "# print('\\nT^2 == F: ------------------------------------------')\n",
    "# print(('From the t-test we get t^2={0:5.3f}, and from the F-test F={1:5.3f}'.format(t_val ** 2, F_statistic)))\n",
    "# \n",
    "# # numeric test\n",
    "# np.testing.assert_almost_equal(t_val ** 2, F_statistic, decimal=0)\n",
    "# \n",
    "# print(F_statistic)\n"
   ],
   "metadata": {
    "collapsed": false
   },
   "id": "b00e452c5902c929"
  },
  {
   "cell_type": "markdown",
   "source": [
    "###### 无法通过levene检验（方差齐次），不太适合方差分析"
   ],
   "metadata": {
    "collapsed": false
   },
   "id": "593e1ea108c68c4e"
  },
  {
   "cell_type": "markdown",
   "source": [
    "###### 可视化,关系矩阵热力图，将第4行改为y1即为对每一个单品绘图（基本没法看）"
   ],
   "metadata": {
    "collapsed": false
   },
   "id": "81a56e12f198706c"
  },
  {
   "cell_type": "code",
   "execution_count": null,
   "outputs": [],
   "source": [
    "import seaborn as sns\n",
    "from scipy import stats\n",
    "Correlationmatrix = pd.DataFrame()\n",
    "# for i in y1:\n",
    "for i in y2:\n",
    "    name = data1[data1['分类编码'] == i]['分类名称'].iloc[0]\n",
    "    Correlationmatrix[name] = Totaldailysales[i]\n",
    "Correlationmatrix = Correlationmatrix.applymap(float)\n",
    "plt.figure(figsize=(25.60, 14.40))\n",
    "sns.heatmap(Correlationmatrix.corr(method='spearman'), annot=True, vmax=1, square=True, cmap=\"Blues\",annot_kws={\"fontsize\":15})\n",
    "plt.xticks(fontsize=15)\n",
    "plt.yticks(fontsize=15)\n",
    "\n",
    "plt.savefig(\"品类间相关系数（spearman）热力图\")\n",
    "plt.show()"
   ],
   "metadata": {
    "collapsed": false
   },
   "id": "873e682f9951e30f"
  },
  {
   "cell_type": "code",
   "execution_count": null,
   "outputs": [],
   "source": [
    "Correlationmatrix=Correlationmatrix.fillna(0)"
   ],
   "metadata": {
    "collapsed": false
   },
   "id": "f040ea563e802f49"
  },
  {
   "cell_type": "code",
   "execution_count": null,
   "outputs": [],
   "source": [
    "# for i in range(6):\n",
    "#     for j in range(i+1,6):\n",
    "#         x,y=Correlationmatrix.iloc[:,i],Correlationmatrix.iloc[:,j]\n",
    "#         print(x.name,y.name,':',stats.spearmanr(x,y))\n",
    "# \n",
    "# \n",
    "#         "
   ],
   "metadata": {
    "collapsed": false
   },
   "id": "a16f1eccc9d2300e"
  },
  {
   "cell_type": "markdown",
   "source": [
    "##### 对每一单品进行相关矩阵计算"
   ],
   "metadata": {
    "collapsed": false
   },
   "id": "bb0125cfcee14496"
  },
  {
   "cell_type": "code",
   "execution_count": null,
   "outputs": [],
   "source": [
    "import seaborn as sns\n",
    "\n",
    "Correlationmatrix = pd.DataFrame()\n",
    "for i in y1:\n",
    "    name = data1[data1['单品编码'] == i]['单品名称'].iloc[0]\n",
    "    Correlationmatrix[name] = Totaldailysales[i]\n",
    "\n",
    "Correlationmatrix.corr()"
   ],
   "metadata": {
    "collapsed": false
   },
   "id": "b3d39be0d8f30837"
  },
  {
   "cell_type": "markdown",
   "source": [
    "##### eta系数检测"
   ],
   "metadata": {
    "collapsed": false
   },
   "id": "17b4603fac8473b6"
  },
  {
   "cell_type": "code",
   "execution_count": null,
   "outputs": [],
   "source": [
    "# def correlation_ratio(component, total):\n",
    "#     y_component_avg = np.mean(component)\n",
    "#     y_total_avg = np.mean(total)\n",
    "#     numerator = np.sum(np.power(np.subtract(total, y_component_avg), 2))\n",
    "#     denominator = np.sum(np.power(np.subtract(total, y_total_avg), 2))\n",
    "#     if denominator == 0:\n",
    "#         eta = 0.0\n",
    "#     else:\n",
    "#         eta = numerator / denominator\n",
    "#     return 1 - eta\n",
    "# \n",
    "# \n",
    "# import numpy as np\n",
    "# from scipy import stats\n",
    "# \n",
    "# for i in y2:\n",
    "#     categorylist = data1[data1['分类编码'] == i]['单品编码'].value_counts().keys().tolist()\n",
    "#     print('************************', data1[data1['分类编码'] == i]['分类名称'].iloc[0], ':***************************')\n",
    "#     print(stats.kstest(np.log(data2[data2['单品编码'].isin(categorylist)]['销量(千克)']), 'norm'))\n",
    "#     # for j in categorylist:\n",
    "#     # print(data1[data1['单品编码']==j]['单品名称'].iloc[0])\n",
    "#     # print(KStest(data2[data2['单品编码'] == j]['销量(千克)']))\n",
    "#     # print(correlation_ratio(data2[data2['单品编码'] == j]['销量(千克)'],\n",
    "#     #                         data2[data2['单品编码'].isin(categorylist)]['销量(千克)']))\n",
    "#     print(stats.kstest((data2[data2['单品编码'].isin(categorylist)]['销量(千克)']),'norm'))\n"
   ],
   "metadata": {
    "collapsed": false
   },
   "id": "b79defec1ddf270f"
  },
  {
   "cell_type": "code",
   "execution_count": null,
   "outputs": [],
   "source": [
    "data1.columns"
   ],
   "metadata": {
    "collapsed": false
   },
   "id": "a4eba915badb9f8"
  },
  {
   "cell_type": "markdown",
   "source": [
    "### 第二问"
   ],
   "metadata": {
    "collapsed": false
   },
   "id": "b76922316e4dc453"
  },
  {
   "cell_type": "code",
   "execution_count": null,
   "outputs": [],
   "source": [
    "# 导入所需的包\n",
    "import pandas as pd\n",
    "\n",
    "# 合并销售数据和批发价格数据\n",
    "merged_data_for_relation = pd.merge(data2, data3, left_on=[\"销售日期\", \"单品编码\"], right_on=[\"日期\", \"单品编码\"], how=\"left\")\n",
    "\n",
    "# 添加商品分类信息到merged_data_for_relation中\n",
    "merged_data_for_relation = pd.merge(merged_data_for_relation, data1[[\"单品编码\", \"分类名称\"]], on=\"单品编码\", how=\"left\")\n",
    "\n",
    "# 计算总销售额和总成本\n",
    "merged_data_for_relation[\"销售额\"] = merged_data_for_relation[\"销量(千克)\"] * merged_data_for_relation[\"销售单价(元/千克)\"]\n",
    "merged_data_for_relation[\"成本\"] = merged_data_for_relation[\"销量(千克)\"] * merged_data_for_relation[\"批发价格(元/千克)\"]\n",
    "\n",
    "# 按蔬菜品类分组计算总销售额和总成本\n",
    "grouped_data_corrected = merged_data_for_relation.groupby(\"分类名称\").agg(\n",
    "    总销售额=(\"销售额\", \"sum\"),\n",
    "    总成本=(\"成本\", \"sum\")\n",
    ").reset_index()\n",
    "\n",
    "# 计算成本加成比率\n",
    "grouped_data_corrected[\"成本加成比率\"] = (grouped_data_corrected[\"总销售额\"] / grouped_data_corrected[\"总成本\"]) - 1\n",
    "\n",
    "print(grouped_data_corrected[[\"分类名称\", \"成本加成比率\"]])"
   ],
   "metadata": {
    "collapsed": false
   },
   "id": "1daecc1fa82f042e"
  },
  {
   "cell_type": "code",
   "execution_count": null,
   "outputs": [],
   "source": [
    "import matplotlib.pyplot as plt\n",
    "from statsmodels.tsa.arima.model import ARIMA\n",
    "# 选择“水生根茎类”这一蔬菜品类的数据\n",
    "category_example = \"水生根茎类\"\n",
    "test_start_date=\"2023-07-01\"\n",
    "\n",
    "# 按天和蔬菜品类汇总销售量\n",
    "\n",
    "# 使用附件1的数据来获取每种蔬菜的分类名称\n",
    "merged_data_corrected = pd.merge(data2, data3, left_on=[\"单品编码\", \"销售日期\"], right_on=[\"单品编码\", \"日期\"], how=\"left\")\n",
    "merged_data_corrected.drop(\"日期\", axis=1, inplace=True)\n",
    "merged_data_with_category = pd.merge(merged_data_corrected, data1[['单品编码', '分类名称']], on=\"单品编码\", how=\"left\")\n",
    "\n",
    "# 按天和蔬菜品类汇总销售量\n",
    "daily_sales_final = merged_data_with_category.groupby(['销售日期', '分类名称'])['销量(千克)'].sum().reset_index()\n",
    "\n",
    "\n",
    "example_data = daily_sales_final[daily_sales_final['分类名称'] == category_example].set_index('销售日期')\n",
    "\n",
    "# 绘制销售数据图\n",
    "plt.figure(figsize=(15, 6))\n",
    "example_data['销量(千克)'].plot(title=f'{category_example} 销售数据')\n",
    "plt.xlabel('日期')\n",
    "plt.ylabel('销量(千克)')\n",
    "plt.grid(True)\n",
    "plt.show()\n",
    "\n",
    "# 重新使用ARIMA模型进行预测\n",
    "try:\n",
    "    model = ARIMA(example_data['销量(千克)'], order=(1,1,1))\n",
    "    model_fit = model.fit()\n",
    "    forecast = model_fit.forecast(steps=7)\n",
    "\n",
    "    # 绘制原始数据和预测数据\n",
    "    plt.figure(figsize=(15, 6))\n",
    "    example_data['销量(千克)'].plot(label='Actual')\n",
    "    forecast.index = pd.date_range(start=test_start_date, periods=7, freq='D')\n",
    "    forecast.plot(label='Forecast', color='red')\n",
    "    plt.title(f'{category_example} Sales Forecasting')\n",
    "    plt.xlabel('Date')\n",
    "    plt.ylabel('Sales (kg)')\n",
    "    plt.legend()\n",
    "    plt.grid(True)\n",
    "    plt.show()\n",
    "\n",
    "except Exception as e:\n",
    "    error_message = str(e)\n",
    "\n",
    "error_message if 'error_message' in locals() else \"Model successfully forecasted!\"\n"
   ],
   "metadata": {
    "collapsed": false
   },
   "id": "f5b9c20cf848dbc5"
  },
  {
   "cell_type": "code",
   "execution_count": null,
   "outputs": [],
   "source": [
    "import pandas as pd\n",
    "import matplotlib.pyplot as plt\n",
    "from statsmodels.tsa.arima.model import ARIMA\n",
    "from statsmodels.graphics.tsaplots import plot_acf, plot_pacf\n",
    "import itertools\n",
    "\n",
    "# 加载数据\n",
    "attachment1 = data1\n",
    "attachment2 = data2\n",
    "attachment3 = data3\n",
    "\n",
    "# 合并数据\n",
    "merged_data = pd.merge(attachment2, attachment3, left_on=[\"单品编码\", \"销售日期\"], right_on=[\"单品编码\", \"日期\"], how=\"left\").drop(\"日期\", axis=1)\n",
    "merged_data_with_category = pd.merge(merged_data, attachment1[['单品编码', '分类名称']], on=\"单品编码\", how=\"left\")\n",
    "\n",
    "# 获取指定蔬菜品类的数据并拟合ARIMA模型\n",
    "def fit_arima_for_category(category_name):\n",
    "    category_data = merged_data_with_category[merged_data_with_category['分类名称'] == category_name].groupby('销售日期').sum()['销量(千克)']\n",
    "\n",
    "    # 定义p, d, q参数范围\n",
    "    p = d = q = range(0, 3)\n",
    "    pdq = list(itertools.product(p, d, q))\n",
    "\n",
    "    best_aic = float(\"inf\")\n",
    "    best_order = None\n",
    "    best_model = None\n",
    "\n",
    "    for order in pdq:\n",
    "        try:\n",
    "            temp_model = ARIMA(category_data, order=order)\n",
    "            temp_model_fit = temp_model.fit()\n",
    "            if temp_model_fit.aic < best_aic:\n",
    "                best_aic = temp_model_fit.aic\n",
    "                best_order = order\n",
    "                best_model = temp_model_fit\n",
    "        except:\n",
    "            continue\n",
    "\n",
    "    return best_order, best_aic, best_model\n",
    "\n",
    "# 尝试为\"水生根茎类\"和\"食用菌\"拟合ARIMA模型\n",
    "order_aquatic, aic_aquatic, model_aquatic = fit_arima_for_category(\"水生根茎类\")\n",
    "order_fungus, aic_fungus, model_fungus = fit_arima_for_category(\"食用菌\")\n"
   ],
   "metadata": {
    "collapsed": false
   },
   "id": "a4c1551f57c8fb31"
  },
  {
   "cell_type": "code",
   "execution_count": null,
   "outputs": [],
   "source": [
    "import pandas as pd\n",
    "import matplotlib.pyplot as plt\n",
    "\n",
    "# Load datasets from the attachments\n",
    "product_categories = data1\n",
    "sales_data = data2\n",
    "wholesale_prices = data3\n",
    "\n",
    "# Merge sales data with product categories to get category information for each sale\n",
    "sales_with_category = pd.merge(sales_data, product_categories, on=\"单品编码\", how=\"left\")\n",
    "\n",
    "# Merge the sales data with wholesale prices using the correct column names\n",
    "sales_with_cost = pd.merge(sales_with_category, wholesale_prices, left_on=[\"单品编码\", \"销售日期\"], right_on=[\"单品编码\", \"日期\"], how=\"left\")\n",
    "\n",
    "# Group by date and product category, then aggregate the sales volume, selling price, and wholesale price\n",
    "daily_category_summary = sales_with_cost.groupby([\"销售日期\", \"分类名称\"]).agg(\n",
    "    daily_sales_volume=(\"销量(千克)\", \"sum\"),\n",
    "    daily_avg_selling_price=(\"销售单价(元/千克)\", \"mean\"),\n",
    "    daily_avg_wholesale_price=(\"批发价格(元/千克)\", \"mean\")\n",
    ").reset_index()\n",
    "\n",
    "# Calculate daily total markup for each category (total sales revenue - total cost)\n",
    "daily_category_summary[\"daily_total_markup\"] = (daily_category_summary[\"daily_sales_volume\"] * daily_category_summary[\"daily_avg_selling_price\"]\n",
    "                                                - daily_category_summary[\"daily_sales_volume\"] * daily_category_summary[\"daily_avg_wholesale_price\"])\n",
    "# Calculate daily markup percentage for each category\n",
    "daily_category_summary[\"daily_markup_percentage\"] = (daily_category_summary[\"daily_total_markup\"] / (daily_category_summary[\"daily_sales_volume\"] * daily_category_summary[\"daily_avg_wholesale_price\"])) * 100\n",
    "\n",
    "# Plotting\n",
    "plt.rcParams['font.sans-serif'] = ['SimHei']  # Display Chinese characters\n",
    "plt.rcParams['axes.unicode_minus'] = False  # Display negative sign\n",
    "\n",
    "plt.figure(figsize=(15, 10))\n",
    "categories = daily_category_summary[\"分类名称\"].unique()\n",
    "\n",
    "for idx, category in enumerate(categories, 1):\n",
    "    plt.subplot(2, 3, idx)\n",
    "    category_data = daily_category_summary[daily_category_summary[\"分类名称\"] == category]\n",
    "    plt.scatter(category_data[\"daily_markup_percentage\"],category_data[\"daily_sales_volume\"],  color='#ed6ebb', alpha=0.6)\n",
    "    plt.title(f\"Category: {category}\")\n",
    "    plt.ylabel(\"Daily Sales Volume (kg)\")\n",
    "    plt.xlabel(\"Daily Markup Percentage (%)\")\n",
    "    plt.grid(True)\n",
    "\n",
    "plt.tight_layout()\n",
    "plt.show()\n"
   ],
   "metadata": {
    "collapsed": false
   },
   "id": "708afcb4c841b141"
  },
  {
   "cell_type": "code",
   "execution_count": null,
   "outputs": [],
   "source": [
    "# 多项式回归拟合\n",
    "\n",
    "from sklearn.linear_model import LinearRegression\n",
    "from sklearn.preprocessing import PolynomialFeatures\n",
    "import numpy as np\n",
    "\n",
    "# Continue with the plotting and fitting polynomial regression\n",
    "plt.figure(figsize=(15, 10))\n",
    "\n",
    "for idx, category in enumerate(categories, 1):\n",
    "    plt.subplot(2, 3, idx)\n",
    "\n",
    "    # Extract data for the category\n",
    "    category_data = daily_category_summary[daily_category_summary[\"分类名称\"] == category]\n",
    "    y = category_data[\"daily_sales_volume\"].values\n",
    "    x = category_data[\"daily_markup_percentage\"].values.reshape(-1, 1)\n",
    "\n",
    "    # Polynomial regression\n",
    "    poly = PolynomialFeatures(degree=2)\n",
    "    x_poly = poly.fit_transform(x)\n",
    "    poly_regressor = LinearRegression().fit(x_poly, y)\n",
    "    x_new = np.linspace(x.min(), x.max(), 500).reshape(-1, 1)\n",
    "    y_new = poly_regressor.predict(poly.transform(x_new))\n",
    "\n",
    "    # Plot the data and the fitted curve\n",
    "    plt.scatter(x, y, color='#ed6ebb', alpha=0.6)\n",
    "    plt.plot(x_new, y_new, 'r-', label='Fitted Curve')\n",
    "    plt.title(f\"Category: {category}\")\n",
    "    plt.xlabel(\"Daily Sales Volume (kg)\")\n",
    "    plt.ylabel(\"Daily Markup Percentage (%)\")\n",
    "    plt.grid(True)\n",
    "    plt.legend()\n",
    "\n",
    "plt.tight_layout()\n",
    "plt.show()\n"
   ],
   "metadata": {
    "collapsed": false
   },
   "id": "6a9c2b4f00ffcc7e"
  },
  {
   "cell_type": "code",
   "execution_count": null,
   "outputs": [],
   "source": [
    "\n",
    "from sklearn.svm import SVR\n",
    "from sklearn.preprocessing import StandardScaler\n",
    "\n",
    "plt.figure(figsize=(15, 10))\n",
    "\n",
    "for idx, category in enumerate(categories, 1):\n",
    "    plt.subplot(2, 3, idx)\n",
    "\n",
    "    # Extract data for the category\n",
    "    category_data = daily_category_summary[daily_category_summary[\"分类名称\"] == category]\n",
    "    y = category_data[\"daily_sales_volume\"].values\n",
    "    x = category_data[\"daily_markup_percentage\"].values.reshape(-1, 1)\n",
    "\n",
    "    # Standardize the data for better performance with SVR\n",
    "    sc_x = StandardScaler()\n",
    "    sc_y = StandardScaler()\n",
    "    x_std = sc_x.fit_transform(x)\n",
    "    y_std = sc_y.fit_transform(y.reshape(-1, 1))\n",
    "\n",
    "    # SVR model\n",
    "    svr_regressor = SVR(kernel='rbf')\n",
    "    svr_regressor.fit(x_std, y_std.ravel())\n",
    "\n",
    "    # Predict and plot\n",
    "    x_new = np.linspace(x.min(), x.max(), 500).reshape(-1, 1)\n",
    "    y_new = sc_y.inverse_transform(svr_regressor.predict(sc_x.transform(x_new)).reshape(-1, 1))\n",
    "\n",
    "    plt.scatter(x, y, color='#ed6ebb', alpha=0.6)\n",
    "    plt.plot(x_new, y_new, 'r-', label='SVR Curve')\n",
    "    plt.title(f\"Category: {category}\")\n",
    "    plt.xlabel(\"Daily Sales Volume (kg)\")\n",
    "    plt.ylabel(\"Daily Markup Percentage (%)\")\n",
    "    plt.grid(True)\n",
    "    plt.legend()\n",
    "\n",
    "plt.tight_layout()\n",
    "plt.show()\n"
   ],
   "metadata": {
    "collapsed": false
   },
   "id": "4494a9d791f1f455"
  },
  {
   "cell_type": "code",
   "execution_count": null,
   "outputs": [],
   "source": [
    "# 随机森林\n",
    "\n",
    "from sklearn.ensemble import RandomForestRegressor\n",
    "\n",
    "plt.figure(figsize=(15, 10))\n",
    "\n",
    "# Use RandomForestRegressor for each category with correct input-output relationship\n",
    "for idx, category in enumerate(categories, 1):\n",
    "    plt.subplot(2, 3, idx)\n",
    "\n",
    "    # Extract data for the category\n",
    "    category_data = daily_category_summary[daily_category_summary[\"分类名称\"] == category]\n",
    "    x = category_data[\"daily_markup_percentage\"].values.reshape(-1, 1)\n",
    "    y = category_data[\"daily_sales_volume\"].values\n",
    "\n",
    "    # Fit the RandomForestRegressor\n",
    "    rf_regressor = RandomForestRegressor(n_estimators=100, random_state=0)\n",
    "    rf_regressor.fit(x, y)\n",
    "\n",
    "    # Predict and plot\n",
    "    x_new = np.linspace(x.min(), x.max(), 500).reshape(-1, 1)\n",
    "    y_new = rf_regressor.predict(x_new)\n",
    "\n",
    "    plt.scatter(x, y, color='cyan', alpha=0.6)\n",
    "    plt.plot(x_new, y_new, 'r-', label='RF Curve')\n",
    "    plt.title(f\"Category: {category}\")\n",
    "    plt.xlabel(\"Daily Markup Percentage (%)\")\n",
    "    plt.ylabel(\"Daily Sales Volume (kg)\")\n",
    "    plt.grid(True)\n",
    "    plt.legend()\n",
    "\n",
    "plt.tight_layout()\n",
    "plt.show()\n"
   ],
   "metadata": {
    "collapsed": false
   },
   "id": "fbaccf801b69cc18"
  }
 ],
 "metadata": {
  "kernelspec": {
   "display_name": "Python 3",
   "language": "python",
   "name": "python3"
  },
  "language_info": {
   "codemirror_mode": {
    "name": "ipython",
    "version": 2
   },
   "file_extension": ".py",
   "mimetype": "text/x-python",
   "name": "python",
   "nbconvert_exporter": "python",
   "pygments_lexer": "ipython2",
   "version": "2.7.6"
  }
 },
 "nbformat": 4,
 "nbformat_minor": 5
}
