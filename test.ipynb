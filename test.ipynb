{
 "cells": [
  {
   "cell_type": "code",
   "execution_count": 1,
   "id": "a02d8440d327a608",
   "metadata": {
    "collapsed": true,
    "ExecuteTime": {
     "end_time": "2023-09-09T20:10:39.652045600Z",
     "start_time": "2023-09-09T20:09:16.149596Z"
    }
   },
   "outputs": [],
   "source": [
    "import pandas as pd\n",
    "import numpy as np\n",
    "# import matplotlib.pyplot as plt\n",
    "from sklearn.preprocessing import MinMaxScaler\n",
    "\n",
    "# from keras.models import Sequential\n",
    "# from keras.layers import Dense, LSTM\n",
    "\n",
    "attachment2 = pd.read_excel(\"CUMCM2023Problems/C题/销售流水明细数据.xlsx\")\n",
    "attachment3 = pd.read_excel(\"CUMCM2023Problems/C题/蔬菜类商品的批发价格.xlsx\")\n",
    "attachment1 = pd.read_excel(\"CUMCM2023Problems/C题/6 个蔬菜品类的商品信息.xlsx\")"
   ]
  },
  {
   "cell_type": "code",
   "execution_count": 37,
   "outputs": [],
   "source": [
    "mergedata = attachment2.merge(attachment1, how='left', on='单品编码')\n",
    "mergedata = mergedata[mergedata['销售日期'] > '2023-06-24']\n",
    "mergedata = mergedata.groupby(['销售日期','单品名称']).agg({'销量(千克)':'sum'})\n"
   ],
   "metadata": {
    "collapsed": false,
    "ExecuteTime": {
     "end_time": "2023-09-10T05:43:17.605374600Z",
     "start_time": "2023-09-10T05:43:17.346868200Z"
    }
   },
   "id": "d4d50c3f9587f69f"
  },
  {
   "cell_type": "code",
   "execution_count": 57,
   "outputs": [
    {
     "data": {
      "text/plain": "MultiIndex([('2023-06-25',       '七彩椒(2)'),\n            ('2023-06-25',          '上海青'),\n            ('2023-06-25',        '云南油麦菜'),\n            ('2023-06-25',     '云南油麦菜(份)'),\n            ('2023-06-25',         '云南生菜'),\n            ('2023-06-25',      '云南生菜(份)'),\n            ('2023-06-25',        '净藕(1)'),\n            ('2023-06-25',       '双孢菇(盒)'),\n            ('2023-06-25',       '圆茄子(2)'),\n            ('2023-06-25', '姜蒜小米椒组合装(小份)'),\n            ...\n            ('2023-06-30',       '螺丝椒(份)'),\n            ('2023-06-30', '蟹味菇与白玉菇双拼(盒)'),\n            ('2023-06-30',          '西兰花'),\n            ('2023-06-30',      '西峡花菇(1)'),\n            ('2023-06-30',         '野生粉藕'),\n            ('2023-06-30',       '金针菇(盒)'),\n            ('2023-06-30',          '长线茄'),\n            ('2023-06-30',   '青红杭椒组合装(份)'),\n            ('2023-06-30',        '高瓜(1)'),\n            ('2023-06-30',        '高瓜(2)')],\n           names=['销售日期', '单品名称'], length=242)"
     },
     "execution_count": 57,
     "metadata": {},
     "output_type": "execute_result"
    }
   ],
   "source": [
    "mergedata.index"
   ],
   "metadata": {
    "collapsed": false,
    "ExecuteTime": {
     "end_time": "2023-09-10T05:53:45.790233100Z",
     "start_time": "2023-09-10T05:53:45.741699500Z"
    }
   },
   "id": "6572bbfe849098eb"
  },
  {
   "cell_type": "code",
   "execution_count": 56,
   "outputs": [
    {
     "data": {
      "text/plain": "MultiIndex([('2023-06-25', '云南油麦菜')],\n           names=['销售日期', '单品名称'])"
     },
     "execution_count": 56,
     "metadata": {},
     "output_type": "execute_result"
    }
   ],
   "source": [
    "mergedata.index[[2]]"
   ],
   "metadata": {
    "collapsed": false,
    "ExecuteTime": {
     "end_time": "2023-09-10T05:53:33.561978800Z",
     "start_time": "2023-09-10T05:53:33.527604600Z"
    }
   },
   "id": "a29de4d93d9c5462"
  },
  {
   "cell_type": "code",
   "execution_count": 47,
   "outputs": [
    {
     "data": {
      "text/plain": "Index([    (2023-06-25 00:00:00, '七彩椒(2)'),\n              (2023-06-29 00:00:00, '竹叶菜'),\n           (2023-06-28 00:00:00, '螺丝椒(份)'),\n              (2023-06-28 00:00:00, '西兰花'),\n          (2023-06-28 00:00:00, '西峡花菇(1)'),\n           (2023-06-28 00:00:00, '金针菇(盒)'),\n              (2023-06-28 00:00:00, '长线茄'),\n       (2023-06-28 00:00:00, '青红杭椒组合装(份)'),\n           (2023-06-28 00:00:00, '青茄子(1)'),\n            (2023-06-28 00:00:00, '高瓜(1)'),\n       ...\n              (2023-06-27 00:00:00, '上海青'),\n            (2023-06-27 00:00:00, '云南油麦菜'),\n         (2023-06-27 00:00:00, '云南油麦菜(份)'),\n             (2023-06-27 00:00:00, '云南生菜'),\n          (2023-06-27 00:00:00, '云南生菜(份)'),\n            (2023-06-27 00:00:00, '净藕(1)'),\n           (2023-06-27 00:00:00, '双孢菇(盒)'),\n           (2023-06-27 00:00:00, '圆茄子(2)'),\n             (2023-06-27 00:00:00, '外地茼蒿'),\n            (2023-06-30 00:00:00, '高瓜(2)')],\n      dtype='object', length=242)"
     },
     "execution_count": 47,
     "metadata": {},
     "output_type": "execute_result"
    }
   ],
   "source": [
    "Saleablevariety "
   ],
   "metadata": {
    "collapsed": false,
    "ExecuteTime": {
     "end_time": "2023-09-10T05:52:36.456574200Z",
     "start_time": "2023-09-10T05:52:36.413444800Z"
    }
   },
   "id": "30ac0b8b950f317b"
  },
  {
   "cell_type": "markdown",
   "source": [
    "假设，在这一天之前没留下任何存货（语言需要重新组织）"
   ],
   "metadata": {
    "collapsed": false
   },
   "id": "8e91df43f254fadd"
  },
  {
   "cell_type": "code",
   "execution_count": 21,
   "outputs": [
    {
     "data": {
      "text/plain": "               销量(千克)\n单品名称                 \n云南生菜(份)       168.000\n小米椒(份)        130.000\n云南油麦菜(份)      123.000\n金针菇(盒)         95.000\n芜湖青椒(1)        81.648\n西兰花            78.517\n竹叶菜            76.508\n娃娃菜            64.000\n螺丝椒(份)         64.000\n紫茄子(2)         62.747\n小皱皮(份)         61.000\n双孢菇(盒)         58.000\n海鲜菇(包)         49.000\n苋菜             48.065\n菠菜(份)          47.000\n姜蒜小米椒组合装(小份)   42.000\n木耳菜            38.765\n螺丝椒            38.597\n奶白菜            38.350\n净藕(1)          34.528\n小青菜(1)         28.336\n红薯尖            27.535\n西峡花菇(1)        26.189\n洪湖藕带           25.512\n枝江青梗散花         23.042\n长线茄            22.670\n上海青            21.902\n高瓜(1)          17.985\n青红杭椒组合装(份)     14.000\n虫草花(份)         13.000\n云南生菜           11.683\n青茄子(1)         11.629\n菱角             10.454",
      "text/html": "<div>\n<style scoped>\n    .dataframe tbody tr th:only-of-type {\n        vertical-align: middle;\n    }\n\n    .dataframe tbody tr th {\n        vertical-align: top;\n    }\n\n    .dataframe thead th {\n        text-align: right;\n    }\n</style>\n<table border=\"1\" class=\"dataframe\">\n  <thead>\n    <tr style=\"text-align: right;\">\n      <th></th>\n      <th>销量(千克)</th>\n    </tr>\n    <tr>\n      <th>单品名称</th>\n      <th></th>\n    </tr>\n  </thead>\n  <tbody>\n    <tr>\n      <th>云南生菜(份)</th>\n      <td>168.000</td>\n    </tr>\n    <tr>\n      <th>小米椒(份)</th>\n      <td>130.000</td>\n    </tr>\n    <tr>\n      <th>云南油麦菜(份)</th>\n      <td>123.000</td>\n    </tr>\n    <tr>\n      <th>金针菇(盒)</th>\n      <td>95.000</td>\n    </tr>\n    <tr>\n      <th>芜湖青椒(1)</th>\n      <td>81.648</td>\n    </tr>\n    <tr>\n      <th>西兰花</th>\n      <td>78.517</td>\n    </tr>\n    <tr>\n      <th>竹叶菜</th>\n      <td>76.508</td>\n    </tr>\n    <tr>\n      <th>娃娃菜</th>\n      <td>64.000</td>\n    </tr>\n    <tr>\n      <th>螺丝椒(份)</th>\n      <td>64.000</td>\n    </tr>\n    <tr>\n      <th>紫茄子(2)</th>\n      <td>62.747</td>\n    </tr>\n    <tr>\n      <th>小皱皮(份)</th>\n      <td>61.000</td>\n    </tr>\n    <tr>\n      <th>双孢菇(盒)</th>\n      <td>58.000</td>\n    </tr>\n    <tr>\n      <th>海鲜菇(包)</th>\n      <td>49.000</td>\n    </tr>\n    <tr>\n      <th>苋菜</th>\n      <td>48.065</td>\n    </tr>\n    <tr>\n      <th>菠菜(份)</th>\n      <td>47.000</td>\n    </tr>\n    <tr>\n      <th>姜蒜小米椒组合装(小份)</th>\n      <td>42.000</td>\n    </tr>\n    <tr>\n      <th>木耳菜</th>\n      <td>38.765</td>\n    </tr>\n    <tr>\n      <th>螺丝椒</th>\n      <td>38.597</td>\n    </tr>\n    <tr>\n      <th>奶白菜</th>\n      <td>38.350</td>\n    </tr>\n    <tr>\n      <th>净藕(1)</th>\n      <td>34.528</td>\n    </tr>\n    <tr>\n      <th>小青菜(1)</th>\n      <td>28.336</td>\n    </tr>\n    <tr>\n      <th>红薯尖</th>\n      <td>27.535</td>\n    </tr>\n    <tr>\n      <th>西峡花菇(1)</th>\n      <td>26.189</td>\n    </tr>\n    <tr>\n      <th>洪湖藕带</th>\n      <td>25.512</td>\n    </tr>\n    <tr>\n      <th>枝江青梗散花</th>\n      <td>23.042</td>\n    </tr>\n    <tr>\n      <th>长线茄</th>\n      <td>22.670</td>\n    </tr>\n    <tr>\n      <th>上海青</th>\n      <td>21.902</td>\n    </tr>\n    <tr>\n      <th>高瓜(1)</th>\n      <td>17.985</td>\n    </tr>\n    <tr>\n      <th>青红杭椒组合装(份)</th>\n      <td>14.000</td>\n    </tr>\n    <tr>\n      <th>虫草花(份)</th>\n      <td>13.000</td>\n    </tr>\n    <tr>\n      <th>云南生菜</th>\n      <td>11.683</td>\n    </tr>\n    <tr>\n      <th>青茄子(1)</th>\n      <td>11.629</td>\n    </tr>\n    <tr>\n      <th>菱角</th>\n      <td>10.454</td>\n    </tr>\n  </tbody>\n</table>\n</div>"
     },
     "execution_count": 21,
     "metadata": {},
     "output_type": "execute_result"
    }
   ],
   "source": [
    "topSaleablevariety=mergedata[['单品名称','销量(千克)']].groupby(['单品名称']).sum().sort_values(by='销量(千克)',ascending=False).iloc[:33]"
   ],
   "metadata": {
    "collapsed": false,
    "ExecuteTime": {
     "end_time": "2023-09-09T20:23:53.637681400Z",
     "start_time": "2023-09-09T20:23:53.606777500Z"
    }
   },
   "id": "b1cdefe13949902e"
  },
  {
   "cell_type": "code",
   "execution_count": 40,
   "outputs": [
    {
     "ename": "NameError",
     "evalue": "name 'topSaleablevariety' is not defined",
     "output_type": "error",
     "traceback": [
      "\u001B[1;31m---------------------------------------------------------------------------\u001B[0m",
      "\u001B[1;31mNameError\u001B[0m                                 Traceback (most recent call last)",
      "Cell \u001B[1;32mIn[40], line 1\u001B[0m\n\u001B[1;32m----> 1\u001B[0m \u001B[43mtopSaleablevariety\u001B[49m\n",
      "\u001B[1;31mNameError\u001B[0m: name 'topSaleablevariety' is not defined"
     ]
    }
   ],
   "source": [
    "topSaleablevariety"
   ],
   "metadata": {
    "collapsed": false,
    "ExecuteTime": {
     "end_time": "2023-09-10T05:45:12.408295600Z",
     "start_time": "2023-09-10T05:45:12.361187900Z"
    }
   },
   "id": "f03ffa67b7e4aee1"
  }
 ],
 "metadata": {
  "kernelspec": {
   "display_name": "Python 3",
   "language": "python",
   "name": "python3"
  },
  "language_info": {
   "codemirror_mode": {
    "name": "ipython",
    "version": 2
   },
   "file_extension": ".py",
   "mimetype": "text/x-python",
   "name": "python",
   "nbconvert_exporter": "python",
   "pygments_lexer": "ipython2",
   "version": "2.7.6"
  }
 },
 "nbformat": 4,
 "nbformat_minor": 5
}
