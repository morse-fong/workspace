{
 "cells": [
  {
   "cell_type": "code",
   "execution_count": 8,
   "id": "a02d8440d327a608",
   "metadata": {
    "collapsed": true,
    "ExecuteTime": {
     "end_time": "2023-09-09T10:43:00.915577600Z",
     "start_time": "2023-09-09T10:41:36.614788200Z"
    }
   },
   "outputs": [],
   "source": [
    "import pandas as pd\n",
    "import numpy as np\n",
    "# import matplotlib.pyplot as plt\n",
    "from sklearn.preprocessing import MinMaxScaler\n",
    "# from keras.models import Sequential\n",
    "# from keras.layers import Dense, LSTM\n",
    "\n",
    "attachment2 = pd.read_excel(\"CUMCM2023Problems/C题/销售流水明细数据.xlsx\")\n",
    "attachment3 = pd.read_excel(\"CUMCM2023Problems/C题/蔬菜类商品的批发价格.xlsx\")\n",
    "attachment1 = pd.read_excel(\"CUMCM2023Problems/C题/6 个蔬菜品类的商品信息.xlsx\")\n",
    "# 根据正确的列名进行数据合并"
   ]
  },
  {
   "cell_type": "code",
   "execution_count": null,
   "outputs": [],
   "source": [],
   "metadata": {
    "collapsed": false
   },
   "id": "30ac0b8b950f317b"
  }
 ],
 "metadata": {
  "kernelspec": {
   "display_name": "Python 3",
   "language": "python",
   "name": "python3"
  },
  "language_info": {
   "codemirror_mode": {
    "name": "ipython",
    "version": 2
   },
   "file_extension": ".py",
   "mimetype": "text/x-python",
   "name": "python",
   "nbconvert_exporter": "python",
   "pygments_lexer": "ipython2",
   "version": "2.7.6"
  }
 },
 "nbformat": 4,
 "nbformat_minor": 5
}
