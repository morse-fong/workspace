{
 "metadata": {
  "kernelspec": {
   "name": "python3",
   "display_name": "Python 3",
   "language": "python"
  },
  "language_info": {
   "name": "python",
   "version": "3.10.12",
   "mimetype": "text/x-python",
   "codemirror_mode": {
    "name": "ipython",
    "version": 3
   },
   "pygments_lexer": "ipython3",
   "nbconvert_exporter": "python",
   "file_extension": ".py"
  }
 },
 "nbformat_minor": 4,
 "nbformat": 4,
 "cells": [
  {
   "cell_type": "code",
   "source": [
    "# 导入所需的包\n",
    "import pandas as pd\n",
    "import numpy as np\n",
    "import matplotlib.pyplot as plt\n",
    "import seaborn as sns\n",
    "from sklearn.preprocessing import MinMaxScaler\n",
    "import os\n",
    "\n",
    "os.environ[\"CUDA_VISIBLE_DEVICES\"] = \"0\"\n",
    "# 读取数据\n",
    "attachment1 = pd.read_excel(\"CUMCM2023Problems/C题/6 个蔬菜品类的商品信息.xlsx\")\n",
    "attachment2 = pd.read_excel(\"CUMCM2023Problems/C题/销售流水明细数据.xlsx\")\n",
    "attachment3 = pd.read_excel(\"CUMCM2023Problems/C题/蔬菜类商品的批发价格.xlsx\")"
   ],
   "metadata": {
    "execution": {
     "iopub.status.busy": "2023-09-09T11:10:40.179574Z",
     "iopub.execute_input": "2023-09-09T11:10:40.180261Z",
     "iopub.status.idle": "2023-09-09T11:13:22.821614Z",
     "shell.execute_reply.started": "2023-09-09T11:10:40.180229Z",
     "shell.execute_reply": "2023-09-09T11:13:22.820664Z"
    },
    "trusted": true,
    "ExecuteTime": {
     "end_time": "2023-09-09T19:00:51.153393Z",
     "start_time": "2023-09-09T18:59:25.360651200Z"
    }
   },
   "execution_count": 4,
   "outputs": []
  },
  {
   "cell_type": "code",
   "execution_count": 5,
   "outputs": [],
   "source": [
    "# costlist=attachment3.merge(attachment1,on='单品编码',how='left').groupby(['日期','分类名称']).mean()\n",
    "# Pricelist=attachment2.merge(attachment1,on='单品编码',how='left').groupby(['销售日期','分类名称']).agg({'销量(千克)':'sum','销售单价(元/千克)':'mean'})\n"
   ],
   "metadata": {
    "collapsed": false,
    "ExecuteTime": {
     "end_time": "2023-09-09T19:00:51.173511500Z",
     "start_time": "2023-09-09T19:00:51.155395500Z"
    }
   }
  },
  {
   "cell_type": "code",
   "execution_count": 6,
   "outputs": [],
   "source": [
    "# for i,j in (costlist.groupby('分类名称'),Pricelist.groupby('分类名称')):\n",
    "#     print(i[1]['批发价格(元/千克)'],j[1]['批发价格(元/千克)'])\n",
    "#     print(j)"
   ],
   "metadata": {
    "collapsed": false,
    "ExecuteTime": {
     "end_time": "2023-09-09T19:00:51.204343Z",
     "start_time": "2023-09-09T19:00:51.171513500Z"
    }
   }
  },
  {
   "cell_type": "code",
   "execution_count": 7,
   "outputs": [],
   "source": [
    "# attachment2.head()"
   ],
   "metadata": {
    "collapsed": false,
    "ExecuteTime": {
     "end_time": "2023-09-09T19:00:51.204343Z",
     "start_time": "2023-09-09T19:00:51.187018600Z"
    }
   }
  },
  {
   "cell_type": "markdown",
   "source": [
    "首先，您需要对数据进行归一化，并将时间序列数据转换为LSTM可以处理的格式。"
   ],
   "metadata": {}
  },
  {
   "cell_type": "code",
   "source": [
    "import pandas as pd\n",
    "import numpy as np\n",
    "import matplotlib.pyplot as plt\n",
    "from sklearn.preprocessing import MinMaxScaler\n",
    "from keras.models import Sequential\n",
    "from keras.layers import Dense, LSTM\n",
    "\n",
    "# Group by the date and product ID to get daily sales volume for each product\n",
    "# Merge with attachment1 to get the category information/\n",
    "daily_sales = attachment2.merge(attachment1, on='单品编码', how='left')\n",
    "\n",
    "# Grouping the data by category and date\n",
    "category_sales2 = daily_sales.groupby(['销售日期', '分类名称'])['销量(千克)'].mean().unstack()\n",
    "category_sales2.replace(np.nan, 0, inplace=True)\n",
    "category_sales = category_sales2['水生根茎类']"
   ],
   "metadata": {
    "execution": {
     "iopub.status.busy": "2023-09-09T11:35:55.874589Z",
     "iopub.execute_input": "2023-09-09T11:35:55.875285Z",
     "iopub.status.idle": "2023-09-09T11:35:55.961573Z",
     "shell.execute_reply.started": "2023-09-09T11:35:55.875251Z",
     "shell.execute_reply": "2023-09-09T11:35:55.960576Z"
    },
    "trusted": true,
    "ExecuteTime": {
     "end_time": "2023-09-09T19:30:41.981506100Z",
     "start_time": "2023-09-09T19:30:41.672096100Z"
    }
   },
   "execution_count": 36,
   "outputs": []
  },
  {
   "cell_type": "code",
   "execution_count": 35,
   "outputs": [
    {
     "data": {
      "text/plain": "分类名称           水生根茎类       花叶类       花菜类        茄类       辣椒类       食用菌\n销售日期                                                                  \n2020-07-01  0.323333  0.461578  0.452816  0.589567  0.296197  0.294708\n2020-07-02  0.328571  0.468941  0.462558  0.574982  0.292319  0.303187\n2020-07-03  0.319067  0.469899  0.438292  0.629754  0.283053  0.284846\n2020-07-04  0.339938  0.449785  0.441762  0.576434  0.277413  0.276386\n2020-07-05  0.334917  0.440746  0.523340  0.556901  0.279818  0.353686\n...              ...       ...       ...       ...       ...       ...\n2023-06-26  0.451478  0.479310  0.404150  0.573622  0.627696  0.694421\n2023-06-27  0.350085  0.649378  0.509714  0.400714  0.621481  0.679088\n2023-06-28  0.403946  0.671041  0.446361  0.539690  0.646547  0.746417\n2023-06-29  0.424907  0.675450  0.468596  0.500478  0.665022  0.732030\n2023-06-30  0.380765  0.672495  0.460443  0.521915  0.623379  0.573507\n\n[1085 rows x 6 columns]",
      "text/html": "<div>\n<style scoped>\n    .dataframe tbody tr th:only-of-type {\n        vertical-align: middle;\n    }\n\n    .dataframe tbody tr th {\n        vertical-align: top;\n    }\n\n    .dataframe thead th {\n        text-align: right;\n    }\n</style>\n<table border=\"1\" class=\"dataframe\">\n  <thead>\n    <tr style=\"text-align: right;\">\n      <th>分类名称</th>\n      <th>水生根茎类</th>\n      <th>花叶类</th>\n      <th>花菜类</th>\n      <th>茄类</th>\n      <th>辣椒类</th>\n      <th>食用菌</th>\n    </tr>\n    <tr>\n      <th>销售日期</th>\n      <th></th>\n      <th></th>\n      <th></th>\n      <th></th>\n      <th></th>\n      <th></th>\n    </tr>\n  </thead>\n  <tbody>\n    <tr>\n      <th>2020-07-01</th>\n      <td>0.323333</td>\n      <td>0.461578</td>\n      <td>0.452816</td>\n      <td>0.589567</td>\n      <td>0.296197</td>\n      <td>0.294708</td>\n    </tr>\n    <tr>\n      <th>2020-07-02</th>\n      <td>0.328571</td>\n      <td>0.468941</td>\n      <td>0.462558</td>\n      <td>0.574982</td>\n      <td>0.292319</td>\n      <td>0.303187</td>\n    </tr>\n    <tr>\n      <th>2020-07-03</th>\n      <td>0.319067</td>\n      <td>0.469899</td>\n      <td>0.438292</td>\n      <td>0.629754</td>\n      <td>0.283053</td>\n      <td>0.284846</td>\n    </tr>\n    <tr>\n      <th>2020-07-04</th>\n      <td>0.339938</td>\n      <td>0.449785</td>\n      <td>0.441762</td>\n      <td>0.576434</td>\n      <td>0.277413</td>\n      <td>0.276386</td>\n    </tr>\n    <tr>\n      <th>2020-07-05</th>\n      <td>0.334917</td>\n      <td>0.440746</td>\n      <td>0.523340</td>\n      <td>0.556901</td>\n      <td>0.279818</td>\n      <td>0.353686</td>\n    </tr>\n    <tr>\n      <th>...</th>\n      <td>...</td>\n      <td>...</td>\n      <td>...</td>\n      <td>...</td>\n      <td>...</td>\n      <td>...</td>\n    </tr>\n    <tr>\n      <th>2023-06-26</th>\n      <td>0.451478</td>\n      <td>0.479310</td>\n      <td>0.404150</td>\n      <td>0.573622</td>\n      <td>0.627696</td>\n      <td>0.694421</td>\n    </tr>\n    <tr>\n      <th>2023-06-27</th>\n      <td>0.350085</td>\n      <td>0.649378</td>\n      <td>0.509714</td>\n      <td>0.400714</td>\n      <td>0.621481</td>\n      <td>0.679088</td>\n    </tr>\n    <tr>\n      <th>2023-06-28</th>\n      <td>0.403946</td>\n      <td>0.671041</td>\n      <td>0.446361</td>\n      <td>0.539690</td>\n      <td>0.646547</td>\n      <td>0.746417</td>\n    </tr>\n    <tr>\n      <th>2023-06-29</th>\n      <td>0.424907</td>\n      <td>0.675450</td>\n      <td>0.468596</td>\n      <td>0.500478</td>\n      <td>0.665022</td>\n      <td>0.732030</td>\n    </tr>\n    <tr>\n      <th>2023-06-30</th>\n      <td>0.380765</td>\n      <td>0.672495</td>\n      <td>0.460443</td>\n      <td>0.521915</td>\n      <td>0.623379</td>\n      <td>0.573507</td>\n    </tr>\n  </tbody>\n</table>\n<p>1085 rows × 6 columns</p>\n</div>"
     },
     "execution_count": 35,
     "metadata": {},
     "output_type": "execute_result"
    }
   ],
   "source": [],
   "metadata": {
    "collapsed": false,
    "ExecuteTime": {
     "end_time": "2023-09-09T19:30:12.936181Z",
     "start_time": "2023-09-09T19:30:12.908057600Z"
    }
   }
  },
  {
   "cell_type": "code",
   "execution_count": 37,
   "outputs": [],
   "source": [
    "\n",
    "# # Load the data\n",
    "# daily_sales = attachment2\n",
    "# # Group by the date and product ID to get daily sales volume for each product\n",
    "# daily_sales = daily_sales.groupby(['销售日期', '单品编码'])['销量(千克)'].sum().reset_index()\n",
    "# \n",
    "# # Merge with attachment1 to get the category information\n",
    "# daily_sales = daily_sales.merge(attachment1, on='单品编码', how='left')\n",
    "# \n",
    "# # Grouping the data by category and date\n",
    "# category_sales = daily_sales.groupby(['销售日期', '分类名称'])['销量(千克)'].sum().unstack()\n",
    "\n",
    "\n",
    "look_back = 3\n",
    "# 数据归一化\n",
    "scaler = MinMaxScaler(feature_range=(0, 1))\n",
    "scaled_data = scaler.fit_transform(category_sales.values.reshape(-1, 1))\n",
    "\n",
    "\n",
    "# 将时间序列数据转换为LSTM所需的格式\n",
    "def create_dataset(dataset, look_back=1):\n",
    "    dataX, dataY = [], []\n",
    "    for i in range(len(dataset) - look_back - 1):\n",
    "        a = dataset[i:(i + look_back), 0]\n",
    "        dataX.append(a)\n",
    "        dataY.append(dataset[i + look_back, 0])\n",
    "    return np.array(dataX), np.array(dataY)\n",
    "\n",
    "\n",
    "X, y = create_dataset(scaled_data, look_back)"
   ],
   "metadata": {
    "collapsed": false,
    "ExecuteTime": {
     "end_time": "2023-09-09T19:30:46.399667300Z",
     "start_time": "2023-09-09T19:30:46.377609100Z"
    }
   }
  },
  {
   "cell_type": "markdown",
   "source": [],
   "metadata": {}
  },
  {
   "cell_type": "code",
   "source": [
    "import numpy as np\n",
    "import matplotlib.pyplot as plt\n",
    "from sklearn.preprocessing import MinMaxScaler\n",
    "from keras.models import Sequential\n",
    "from keras.layers import Dense, LSTM\n",
    "\n",
    "# # Load the data\n",
    "# daily_sales = attachment2\n",
    "# # Group by the date and product ID to get daily sales volume for each product\n",
    "# daily_sales = daily_sales.groupby(['销售日期', '单品编码'])['销量(千克)'].sum().reset_index()\n",
    "# \n",
    "# # Merge with attachment1 to get the category information\n",
    "# daily_sales = daily_sales.merge(attachment1, on='单品编码', how='left')\n",
    "# \n",
    "# # Grouping the data by category and date\n",
    "# category_sales = daily_sales.groupby(['销售日期', '分类名称'])['销量(千克)'].sum().unstack()\n",
    "# category_sales.replace(np.nan, 0, inplace=True)"
   ],
   "metadata": {
    "execution": {
     "iopub.status.busy": "2023-09-09T11:56:04.902174Z",
     "iopub.execute_input": "2023-09-09T11:56:04.902834Z",
     "iopub.status.idle": "2023-09-09T11:56:05.017092Z",
     "shell.execute_reply.started": "2023-09-09T11:56:04.902794Z",
     "shell.execute_reply": "2023-09-09T11:56:05.016080Z"
    },
    "trusted": true,
    "ExecuteTime": {
     "end_time": "2023-09-09T19:30:48.594910700Z",
     "start_time": "2023-09-09T19:30:48.577392500Z"
    }
   },
   "execution_count": 38,
   "outputs": []
  },
  {
   "cell_type": "code",
   "execution_count": 39,
   "outputs": [],
   "source": [
    "\n",
    "# # 数据归一化\n",
    "scaler = MinMaxScaler(feature_range=(0, 1))\n",
    "scaled_data = scaler.fit_transform(category_sales.values.reshape(-1, 1))\n"
   ],
   "metadata": {
    "collapsed": false,
    "ExecuteTime": {
     "end_time": "2023-09-09T19:30:50.371300800Z",
     "start_time": "2023-09-09T19:30:50.359768Z"
    }
   }
  },
  {
   "cell_type": "code",
   "execution_count": 40,
   "outputs": [
    {
     "name": "stdout",
     "output_type": "stream",
     "text": [
      "(1085, 1)\n"
     ]
    }
   ],
   "source": [
    "print(scaled_data.shape)"
   ],
   "metadata": {
    "collapsed": false,
    "ExecuteTime": {
     "end_time": "2023-09-09T19:30:52.763490100Z",
     "start_time": "2023-09-09T19:30:52.751980800Z"
    }
   }
  },
  {
   "cell_type": "code",
   "execution_count": 41,
   "outputs": [],
   "source": [
    "# 将时间序列数据转换为LSTM所需的格式\n",
    "def create_dataset(dataset, look_back=1):\n",
    "    dataX, dataY = [], []\n",
    "    for i in range(len(dataset) - look_back - 1):\n",
    "        a = dataset[i:(i + look_back), 0]\n",
    "        dataX.append(a)\n",
    "        dataY.append(dataset[i + look_back, 0])\n",
    "    return np.array(dataX), np.array(dataY)\n",
    "\n",
    "\n",
    "X, y = create_dataset(scaled_data, look_back)"
   ],
   "metadata": {
    "collapsed": false,
    "ExecuteTime": {
     "end_time": "2023-09-09T19:30:55.027580200Z",
     "start_time": "2023-09-09T19:30:55.010707300Z"
    }
   }
  },
  {
   "cell_type": "code",
   "source": [
    "# 将数据划分为训练集和测试集\n",
    "train_size = int(len(X) * 0.67)\n",
    "test_size = len(X) - train_size\n",
    "X_train, X_test = X[0:train_size], X[train_size:len(X)]\n",
    "y_train, y_test = y[0:train_size], y[train_size:len(y)]\n",
    "print(X_train.shape, X_test.shape)\n",
    "# reshape input to be [samples, time steps, features]\n",
    "X_train = np.reshape(X_train, (X_train.shape[0], 1, X_train.shape[1]))\n",
    "X_test = np.reshape(X_test, (X_test.shape[0], 1, X_test.shape[1]))"
   ],
   "metadata": {
    "execution": {
     "iopub.status.busy": "2023-09-09T11:36:08.415898Z",
     "iopub.execute_input": "2023-09-09T11:36:08.416267Z",
     "iopub.status.idle": "2023-09-09T11:37:35.762241Z",
     "shell.execute_reply.started": "2023-09-09T11:36:08.416236Z",
     "shell.execute_reply": "2023-09-09T11:37:35.761173Z"
    },
    "trusted": true,
    "ExecuteTime": {
     "end_time": "2023-09-09T19:30:57.179305Z",
     "start_time": "2023-09-09T19:30:57.154175600Z"
    }
   },
   "execution_count": 42,
   "outputs": [
    {
     "name": "stdout",
     "output_type": "stream",
     "text": [
      "(724, 3) (357, 3)\n"
     ]
    }
   ]
  },
  {
   "cell_type": "code",
   "execution_count": 43,
   "outputs": [
    {
     "name": "stdout",
     "output_type": "stream",
     "text": [
      "Epoch 1/100\n",
      "29/29 - 2s - loss: 0.0700 - 2s/epoch - 53ms/step\n",
      "Epoch 2/100\n",
      "29/29 - 0s - loss: 0.0481 - 30ms/epoch - 1ms/step\n",
      "Epoch 3/100\n",
      "29/29 - 0s - loss: 0.0322 - 31ms/epoch - 1ms/step\n",
      "Epoch 4/100\n",
      "29/29 - 0s - loss: 0.0213 - 37ms/epoch - 1ms/step\n",
      "Epoch 5/100\n",
      "29/29 - 0s - loss: 0.0144 - 34ms/epoch - 1ms/step\n",
      "Epoch 6/100\n",
      "29/29 - 0s - loss: 0.0109 - 34ms/epoch - 1ms/step\n",
      "Epoch 7/100\n",
      "29/29 - 0s - loss: 0.0095 - 39ms/epoch - 1ms/step\n",
      "Epoch 8/100\n",
      "29/29 - 0s - loss: 0.0090 - 35ms/epoch - 1ms/step\n",
      "Epoch 9/100\n",
      "29/29 - 0s - loss: 0.0088 - 33ms/epoch - 1ms/step\n",
      "Epoch 10/100\n",
      "29/29 - 0s - loss: 0.0085 - 39ms/epoch - 1ms/step\n",
      "Epoch 11/100\n",
      "29/29 - 0s - loss: 0.0083 - 34ms/epoch - 1ms/step\n",
      "Epoch 12/100\n",
      "29/29 - 0s - loss: 0.0080 - 33ms/epoch - 1ms/step\n",
      "Epoch 13/100\n",
      "29/29 - 0s - loss: 0.0078 - 37ms/epoch - 1ms/step\n",
      "Epoch 14/100\n",
      "29/29 - 0s - loss: 0.0076 - 32ms/epoch - 1ms/step\n",
      "Epoch 15/100\n",
      "29/29 - 0s - loss: 0.0073 - 31ms/epoch - 1ms/step\n",
      "Epoch 16/100\n",
      "29/29 - 0s - loss: 0.0071 - 37ms/epoch - 1ms/step\n",
      "Epoch 17/100\n",
      "29/29 - 0s - loss: 0.0068 - 36ms/epoch - 1ms/step\n",
      "Epoch 18/100\n",
      "29/29 - 0s - loss: 0.0066 - 32ms/epoch - 1ms/step\n",
      "Epoch 19/100\n",
      "29/29 - 0s - loss: 0.0064 - 34ms/epoch - 1ms/step\n",
      "Epoch 20/100\n",
      "29/29 - 0s - loss: 0.0062 - 37ms/epoch - 1ms/step\n",
      "Epoch 21/100\n",
      "29/29 - 0s - loss: 0.0060 - 34ms/epoch - 1ms/step\n",
      "Epoch 22/100\n",
      "29/29 - 0s - loss: 0.0058 - 34ms/epoch - 1ms/step\n",
      "Epoch 23/100\n",
      "29/29 - 0s - loss: 0.0057 - 36ms/epoch - 1ms/step\n",
      "Epoch 24/100\n",
      "29/29 - 0s - loss: 0.0055 - 33ms/epoch - 1ms/step\n",
      "Epoch 25/100\n",
      "29/29 - 0s - loss: 0.0054 - 36ms/epoch - 1ms/step\n",
      "Epoch 26/100\n",
      "29/29 - 0s - loss: 0.0053 - 35ms/epoch - 1ms/step\n",
      "Epoch 27/100\n",
      "29/29 - 0s - loss: 0.0052 - 34ms/epoch - 1ms/step\n",
      "Epoch 28/100\n",
      "29/29 - 0s - loss: 0.0051 - 37ms/epoch - 1ms/step\n",
      "Epoch 29/100\n",
      "29/29 - 0s - loss: 0.0050 - 34ms/epoch - 1ms/step\n",
      "Epoch 30/100\n",
      "29/29 - 0s - loss: 0.0050 - 32ms/epoch - 1ms/step\n",
      "Epoch 31/100\n",
      "29/29 - 0s - loss: 0.0049 - 34ms/epoch - 1ms/step\n",
      "Epoch 32/100\n",
      "29/29 - 0s - loss: 0.0049 - 38ms/epoch - 1ms/step\n",
      "Epoch 33/100\n",
      "29/29 - 0s - loss: 0.0049 - 33ms/epoch - 1ms/step\n",
      "Epoch 34/100\n",
      "29/29 - 0s - loss: 0.0048 - 34ms/epoch - 1ms/step\n",
      "Epoch 35/100\n",
      "29/29 - 0s - loss: 0.0048 - 38ms/epoch - 1ms/step\n",
      "Epoch 36/100\n",
      "29/29 - 0s - loss: 0.0048 - 35ms/epoch - 1ms/step\n",
      "Epoch 37/100\n",
      "29/29 - 0s - loss: 0.0048 - 37ms/epoch - 1ms/step\n",
      "Epoch 38/100\n",
      "29/29 - 0s - loss: 0.0048 - 39ms/epoch - 1ms/step\n",
      "Epoch 39/100\n",
      "29/29 - 0s - loss: 0.0048 - 44ms/epoch - 2ms/step\n",
      "Epoch 40/100\n",
      "29/29 - 0s - loss: 0.0048 - 33ms/epoch - 1ms/step\n",
      "Epoch 41/100\n",
      "29/29 - 0s - loss: 0.0048 - 34ms/epoch - 1ms/step\n",
      "Epoch 42/100\n",
      "29/29 - 0s - loss: 0.0047 - 32ms/epoch - 1ms/step\n",
      "Epoch 43/100\n",
      "29/29 - 0s - loss: 0.0047 - 36ms/epoch - 1ms/step\n",
      "Epoch 44/100\n",
      "29/29 - 0s - loss: 0.0047 - 36ms/epoch - 1ms/step\n",
      "Epoch 45/100\n",
      "29/29 - 0s - loss: 0.0047 - 35ms/epoch - 1ms/step\n",
      "Epoch 46/100\n",
      "29/29 - 0s - loss: 0.0047 - 37ms/epoch - 1ms/step\n",
      "Epoch 47/100\n",
      "29/29 - 0s - loss: 0.0047 - 34ms/epoch - 1ms/step\n",
      "Epoch 48/100\n",
      "29/29 - 0s - loss: 0.0048 - 31ms/epoch - 1ms/step\n",
      "Epoch 49/100\n",
      "29/29 - 0s - loss: 0.0047 - 36ms/epoch - 1ms/step\n",
      "Epoch 50/100\n",
      "29/29 - 0s - loss: 0.0047 - 36ms/epoch - 1ms/step\n",
      "Epoch 51/100\n",
      "29/29 - 0s - loss: 0.0047 - 31ms/epoch - 1ms/step\n",
      "Epoch 52/100\n",
      "29/29 - 0s - loss: 0.0047 - 36ms/epoch - 1ms/step\n",
      "Epoch 53/100\n",
      "29/29 - 0s - loss: 0.0047 - 34ms/epoch - 1ms/step\n",
      "Epoch 54/100\n",
      "29/29 - 0s - loss: 0.0047 - 33ms/epoch - 1ms/step\n",
      "Epoch 55/100\n",
      "29/29 - 0s - loss: 0.0047 - 34ms/epoch - 1ms/step\n",
      "Epoch 56/100\n",
      "29/29 - 0s - loss: 0.0048 - 36ms/epoch - 1ms/step\n",
      "Epoch 57/100\n",
      "29/29 - 0s - loss: 0.0048 - 34ms/epoch - 1ms/step\n",
      "Epoch 58/100\n",
      "29/29 - 0s - loss: 0.0048 - 37ms/epoch - 1ms/step\n",
      "Epoch 59/100\n",
      "29/29 - 0s - loss: 0.0047 - 34ms/epoch - 1ms/step\n",
      "Epoch 60/100\n",
      "29/29 - 0s - loss: 0.0047 - 33ms/epoch - 1ms/step\n",
      "Epoch 61/100\n",
      "29/29 - 0s - loss: 0.0047 - 34ms/epoch - 1ms/step\n",
      "Epoch 62/100\n",
      "29/29 - 0s - loss: 0.0047 - 37ms/epoch - 1ms/step\n",
      "Epoch 63/100\n",
      "29/29 - 0s - loss: 0.0048 - 33ms/epoch - 1ms/step\n",
      "Epoch 64/100\n",
      "29/29 - 0s - loss: 0.0047 - 37ms/epoch - 1ms/step\n",
      "Epoch 65/100\n",
      "29/29 - 0s - loss: 0.0047 - 37ms/epoch - 1ms/step\n",
      "Epoch 66/100\n",
      "29/29 - 0s - loss: 0.0047 - 35ms/epoch - 1ms/step\n",
      "Epoch 67/100\n",
      "29/29 - 0s - loss: 0.0047 - 38ms/epoch - 1ms/step\n",
      "Epoch 68/100\n",
      "29/29 - 0s - loss: 0.0047 - 36ms/epoch - 1ms/step\n",
      "Epoch 69/100\n",
      "29/29 - 0s - loss: 0.0047 - 32ms/epoch - 1ms/step\n",
      "Epoch 70/100\n",
      "29/29 - 0s - loss: 0.0047 - 35ms/epoch - 1ms/step\n",
      "Epoch 71/100\n",
      "29/29 - 0s - loss: 0.0047 - 33ms/epoch - 1ms/step\n",
      "Epoch 72/100\n",
      "29/29 - 0s - loss: 0.0047 - 33ms/epoch - 1ms/step\n",
      "Epoch 73/100\n",
      "29/29 - 0s - loss: 0.0047 - 35ms/epoch - 1ms/step\n",
      "Epoch 74/100\n",
      "29/29 - 0s - loss: 0.0047 - 34ms/epoch - 1ms/step\n",
      "Epoch 75/100\n",
      "29/29 - 0s - loss: 0.0047 - 33ms/epoch - 1ms/step\n",
      "Epoch 76/100\n",
      "29/29 - 0s - loss: 0.0047 - 34ms/epoch - 1ms/step\n",
      "Epoch 77/100\n",
      "29/29 - 0s - loss: 0.0047 - 37ms/epoch - 1ms/step\n",
      "Epoch 78/100\n",
      "29/29 - 0s - loss: 0.0047 - 35ms/epoch - 1ms/step\n",
      "Epoch 79/100\n",
      "29/29 - 0s - loss: 0.0047 - 36ms/epoch - 1ms/step\n",
      "Epoch 80/100\n",
      "29/29 - 0s - loss: 0.0047 - 34ms/epoch - 1ms/step\n",
      "Epoch 81/100\n",
      "29/29 - 0s - loss: 0.0047 - 32ms/epoch - 1ms/step\n",
      "Epoch 82/100\n",
      "29/29 - 0s - loss: 0.0047 - 32ms/epoch - 1ms/step\n",
      "Epoch 83/100\n",
      "29/29 - 0s - loss: 0.0047 - 38ms/epoch - 1ms/step\n",
      "Epoch 84/100\n",
      "29/29 - 0s - loss: 0.0047 - 35ms/epoch - 1ms/step\n",
      "Epoch 85/100\n",
      "29/29 - 0s - loss: 0.0047 - 36ms/epoch - 1ms/step\n",
      "Epoch 86/100\n",
      "29/29 - 0s - loss: 0.0047 - 35ms/epoch - 1ms/step\n",
      "Epoch 87/100\n",
      "29/29 - 0s - loss: 0.0047 - 33ms/epoch - 1ms/step\n",
      "Epoch 88/100\n",
      "29/29 - 0s - loss: 0.0047 - 37ms/epoch - 1ms/step\n",
      "Epoch 89/100\n",
      "29/29 - 0s - loss: 0.0047 - 37ms/epoch - 1ms/step\n",
      "Epoch 90/100\n",
      "29/29 - 0s - loss: 0.0047 - 37ms/epoch - 1ms/step\n",
      "Epoch 91/100\n",
      "29/29 - 0s - loss: 0.0047 - 38ms/epoch - 1ms/step\n",
      "Epoch 92/100\n",
      "29/29 - 0s - loss: 0.0047 - 38ms/epoch - 1ms/step\n",
      "Epoch 93/100\n",
      "29/29 - 0s - loss: 0.0047 - 34ms/epoch - 1ms/step\n",
      "Epoch 94/100\n",
      "29/29 - 0s - loss: 0.0047 - 33ms/epoch - 1ms/step\n",
      "Epoch 95/100\n",
      "29/29 - 0s - loss: 0.0047 - 37ms/epoch - 1ms/step\n",
      "Epoch 96/100\n",
      "29/29 - 0s - loss: 0.0047 - 34ms/epoch - 1ms/step\n",
      "Epoch 97/100\n",
      "29/29 - 0s - loss: 0.0047 - 34ms/epoch - 1ms/step\n",
      "Epoch 98/100\n",
      "29/29 - 0s - loss: 0.0047 - 35ms/epoch - 1ms/step\n",
      "Epoch 99/100\n",
      "29/29 - 0s - loss: 0.0047 - 33ms/epoch - 1ms/step\n",
      "Epoch 100/100\n",
      "29/29 - 0s - loss: 0.0047 - 34ms/epoch - 1ms/step\n"
     ]
    },
    {
     "data": {
      "text/plain": "<keras.src.callbacks.History at 0x1d2258b5ac0>"
     },
     "execution_count": 43,
     "metadata": {},
     "output_type": "execute_result"
    }
   ],
   "source": [
    "# 创建LSTM模型\n",
    "model = Sequential()\n",
    "model.add(LSTM(4, input_shape=(1, look_back)))\n",
    "model.add(Dense(1))\n",
    "model.compile(loss='mean_squared_error', optimizer='adam')\n",
    "model.fit(X_train, y_train, epochs=100, batch_size=25, verbose=2)\n"
   ],
   "metadata": {
    "collapsed": false,
    "ExecuteTime": {
     "end_time": "2023-09-09T19:31:05.138438Z",
     "start_time": "2023-09-09T19:30:59.797491300Z"
    }
   }
  },
  {
   "cell_type": "code",
   "source": [
    "# model.save('/kaggle/working/model')"
   ],
   "metadata": {
    "execution": {
     "iopub.status.busy": "2023-09-09T11:52:44.897919Z",
     "iopub.execute_input": "2023-09-09T11:52:44.898946Z",
     "iopub.status.idle": "2023-09-09T11:52:48.817200Z",
     "shell.execute_reply.started": "2023-09-09T11:52:44.898911Z",
     "shell.execute_reply": "2023-09-09T11:52:48.816187Z"
    },
    "trusted": true,
    "ExecuteTime": {
     "end_time": "2023-09-09T19:01:16.428241400Z",
     "start_time": "2023-09-09T19:01:16.384430400Z"
    }
   },
   "execution_count": 14,
   "outputs": []
  },
  {
   "cell_type": "code",
   "source": [
    "# from keras.models import load_model\n",
    "# \n",
    "# model = load_model('/kaggle/working/model')"
   ],
   "metadata": {
    "execution": {
     "iopub.status.busy": "2023-09-09T11:13:30.481881Z",
     "iopub.status.idle": "2023-09-09T11:13:30.482347Z",
     "shell.execute_reply.started": "2023-09-09T11:13:30.482108Z",
     "shell.execute_reply": "2023-09-09T11:13:30.482130Z"
    },
    "trusted": true,
    "ExecuteTime": {
     "end_time": "2023-09-09T19:01:16.430243400Z",
     "start_time": "2023-09-09T19:01:16.400170400Z"
    }
   },
   "execution_count": 15,
   "outputs": []
  },
  {
   "cell_type": "code",
   "source": [
    "# 预测\n",
    "train_predict = model.predict(X_train)\n",
    "test_predict = model.predict(X_test)\n",
    "print(X_train.shape)\n",
    "print(train_predict.shape)\n",
    "# 反归一化\n",
    "train_predict = scaler.inverse_transform(train_predict)\n",
    "y_train = scaler.inverse_transform([y_train])\n",
    "test_predict = scaler.inverse_transform(test_predict)\n",
    "y_test = scaler.inverse_transform([y_test])\n",
    "\n",
    "# 计算root mean squared error\n",
    "train_score = np.sqrt(np.mean((train_predict - y_train) ** 2))\n",
    "print('Train Score: %.2f RMSE' % (train_score))\n",
    "test_score = np.sqrt(np.mean((test_predict - y_test) ** 2))\n",
    "print('Test Score: %.2f RMSE' % (test_score))\n",
    "\n"
   ],
   "metadata": {
    "execution": {
     "iopub.status.busy": "2023-09-09T11:56:09.500206Z",
     "iopub.execute_input": "2023-09-09T11:56:09.500593Z",
     "iopub.status.idle": "2023-09-09T11:56:10.172570Z",
     "shell.execute_reply.started": "2023-09-09T11:56:09.500562Z",
     "shell.execute_reply": "2023-09-09T11:56:10.171373Z"
    },
    "trusted": true,
    "ExecuteTime": {
     "end_time": "2023-09-09T19:31:09.739625200Z",
     "start_time": "2023-09-09T19:31:09.338576700Z"
    }
   },
   "execution_count": 44,
   "outputs": [
    {
     "name": "stdout",
     "output_type": "stream",
     "text": [
      "23/23 [==============================] - 0s 865us/step\n",
      "12/12 [==============================] - 0s 955us/step\n",
      "(724, 1, 3)\n",
      "(724, 1)\n",
      "Train Score: 0.20 RMSE\n",
      "Test Score: 0.24 RMSE\n"
     ]
    }
   ]
  },
  {
   "cell_type": "code",
   "source": [
    "# 绘图\n",
    "plt.plot(scaler.inverse_transform(scaled_data))\n",
    "train_predict_plot = np.empty_like(scaled_data)\n",
    "train_predict_plot[:, :] = np.nan\n",
    "train_predict_plot[look_back:len(train_predict) + look_back, :] = train_predict\n",
    "\n",
    "test_predict_plot = np.empty_like(scaled_data)\n",
    "\n",
    "# print(scaler.inverse_transform(scaled_data))\n",
    "test_predict_plot[len(train_predict) + (look_back * 1):len(scaled_data) - 1, :] = test_predict\n",
    "# plt.plot(train_predict_plot)\n",
    "plt.plot(test_predict_plot)\n",
    "plt.show()"
   ],
   "metadata": {
    "execution": {
     "iopub.status.busy": "2023-09-09T12:23:37.167178Z",
     "iopub.execute_input": "2023-09-09T12:23:37.167561Z",
     "iopub.status.idle": "2023-09-09T12:23:37.505019Z",
     "shell.execute_reply.started": "2023-09-09T12:23:37.167530Z",
     "shell.execute_reply": "2023-09-09T12:23:37.503598Z"
    },
    "trusted": true,
    "ExecuteTime": {
     "end_time": "2023-09-09T19:39:41.408980600Z",
     "start_time": "2023-09-09T19:39:41.242955Z"
    }
   },
   "execution_count": 165,
   "outputs": [
    {
     "data": {
      "text/plain": "<Figure size 640x480 with 1 Axes>",
      "image/png": "[encoded data removed]"
     },
     "metadata": {},
     "output_type": "display_data"
    }
   ]
  },
  {
   "cell_type": "markdown",
   "source": [
    "2. 建立LSTM模型\n",
    "接下来，您需要定义LSTM的结构并编译模型。"
   ],
   "metadata": {}
  },
  {
   "cell_type": "markdown",
   "source": [
    "3. 训练模型\n",
    "使用您的训练数据训练LSTM模型。"
   ],
   "metadata": {}
  },
  {
   "cell_type": "markdown",
   "source": [
    "4. 进行预测\n",
    "使用训练好的LSTM模型对测试数据进行预测。"
   ],
   "metadata": {}
  },
  {
   "cell_type": "markdown",
   "source": [
    "预测未来一周的销售量：\n",
    "\n",
    "使用LSTM或其他时间序列预测模型预测每个蔬菜品类的未来一周销售量。\n",
    "确定补货策略：\n",
    "\n",
    "基于预测销售量，加上安全库存（以应对预测误差）来确定补货量。\n",
    "考虑损耗率来进一步调整补货量。例如，如果某个蔬菜的损耗率为10%，那么您可能需要增加10%的补货量以应对这种损耗。\n",
    "制定定价策略：\n",
    "\n",
    "使用“成本加成定价”方法：先确定每个蔬菜品类的成本，然后加上预期的利润率来确定售价。\n",
    "考虑市场竞争、季节性因素和其他因素来调整价格。\n",
    "如果蔬菜品相变差，可以提供折扣以加速销售。\n",
    "也可以考虑使用动态定价策略，例如，如果某天销售量低于预期，可以稍微降低价格以吸引更多顾客。\n",
    "最大化收益的策略：\n",
    "\n",
    "根据预测的销售量、定价策略和成本来模拟未来一周的预期收益。\n",
    "使用优化算法（如线性规划）来确定能够最大化收益的最佳定价和补货策略。"
   ],
   "metadata": {}
  },
  {
   "cell_type": "code",
   "source": [
    "import os\n",
    "import zipfile\n",
    "import datetime\n",
    "\n",
    "\n",
    "def file2zip(packagePath, zipPath):\n",
    "    '''\n",
    "  :param packagePath: 文件夹路径\n",
    "  :param zipPath: 压缩包路径\n",
    "  :return:\n",
    "  '''\n",
    "    zip = zipfile.ZipFile(zipPath, 'w', zipfile.ZIP_DEFLATED)\n",
    "    for path, dirNames, fileNames in os.walk(packagePath):\n",
    "        fpath = path.replace(packagePath, '')\n",
    "        for name in fileNames:\n",
    "            fullName = os.path.join(path, name)\n",
    "            name = fpath + '\\\\' + name\n",
    "            zip.write(fullName, name)\n",
    "    zip.close()\n",
    "\n",
    "# if __name__ == \"__main__\":\n",
    "#     # 文件夹路径\n",
    "#     packagePath = '/kaggle/working/'\n",
    "#     zipPath = '/kaggle/working/output.zip'\n",
    "#     if os.path.exists(zipPath):\n",
    "#         os.remove(zipPath)\n",
    "#     file2zip(packagePath, zipPath)\n",
    "#     print(\"打包完成\")\n",
    "#     print(datetime.datetime.utcnow())\n"
   ],
   "metadata": {
    "execution": {
     "iopub.status.busy": "2023-09-09T11:13:30.491831Z",
     "iopub.status.idle": "2023-09-09T11:13:30.493243Z",
     "shell.execute_reply.started": "2023-09-09T11:13:30.492992Z",
     "shell.execute_reply": "2023-09-09T11:13:30.493017Z"
    },
    "trusted": true,
    "ExecuteTime": {
     "end_time": "2023-09-09T19:01:17.515334800Z",
     "start_time": "2023-09-09T19:01:17.475174500Z"
    }
   },
   "execution_count": 18,
   "outputs": []
  }
 ]
}
